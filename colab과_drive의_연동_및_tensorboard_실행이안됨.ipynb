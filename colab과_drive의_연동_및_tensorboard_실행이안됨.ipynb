{
  "nbformat": 4,
  "nbformat_minor": 0,
  "metadata": {
    "colab": {
      "name": "colab과_drive의_연동_및_tensorboard_실행.ipynb",
      "provenance": [],
      "collapsed_sections": []
    },
    "kernelspec": {
      "display_name": "Python 3",
      "language": "python",
      "name": "python3"
    },
    "language_info": {
      "codemirror_mode": {
        "name": "ipython",
        "version": 3
      },
      "file_extension": ".py",
      "mimetype": "text/x-python",
      "name": "python",
      "nbconvert_exporter": "python",
      "pygments_lexer": "ipython3",
      "version": "3.6.4"
    }
  },
  "cells": [
    {
      "cell_type": "markdown",
      "metadata": {
        "colab_type": "text",
        "id": "K058zsu3OXR-"
      },
      "source": [
        "## Google drive와 Google Colab의 연동\n",
        "-  colab에서 작업 시 google drive에 저장되어 있는 데이터에 접근하기 위해서는 colab을 연동시키는 작업이 필요함."
      ]
    },
    {
      "cell_type": "markdown",
      "metadata": {
        "colab_type": "text",
        "id": "DqQbvI81KiWn"
      },
      "source": [
        "1. 아래의 코드를 실행."
      ]
    },
    {
      "cell_type": "code",
      "metadata": {
        "colab_type": "code",
        "id": "7MQt2jRlzYkV",
        "outputId": "06076078-d02a-44f1-f425-80c20c006763",
        "colab": {
          "base_uri": "https://localhost:8080/",
          "height": 235
        }
      },
      "source": [
        "!apt-get install -y -qq software-properties-common python-software-properties module-init-tools\n",
        "!add-apt-repository -y ppa:alessandro-strada/ppa 2>&1 > /dev/null\n",
        "!apt-get update -qq 2>&1 > /dev/null\n",
        "!apt-get -y install -qq google-drive-ocamlfuse fuse\n",
        "\n",
        "from google.colab import auth\n",
        "auth.authenticate_user()\n",
        "\n",
        "from oauth2client.client import GoogleCredentials\n",
        "creds = GoogleCredentials.get_application_default()\n",
        "\n",
        "import getpass\n",
        "!google-drive-ocamlfuse -headless -id={creds.client_id} -secret={creds.client_secret} < /dev/null 2>&1 | grep URL\n",
        "vcode = getpass.getpass()\n",
        "!echo {vcode} | google-drive-ocamlfuse -headless -id={creds.client_id} -secret={creds.client_secret}"
      ],
      "execution_count": 4,
      "outputs": [
        {
          "output_type": "stream",
          "text": [
            "E: Package 'python-software-properties' has no installation candidate\n",
            "Selecting previously unselected package google-drive-ocamlfuse.\n",
            "(Reading database ... 125036 files and directories currently installed.)\n",
            "Preparing to unpack .../google-drive-ocamlfuse_0.7.14-0ubuntu1~ubuntu18.04.1_amd64.deb ...\n",
            "Unpacking google-drive-ocamlfuse (0.7.14-0ubuntu1~ubuntu18.04.1) ...\n",
            "Setting up google-drive-ocamlfuse (0.7.14-0ubuntu1~ubuntu18.04.1) ...\n",
            "Processing triggers for man-db (2.8.3-2ubuntu0.1) ...\n",
            "Please, open the following URL in a web browser: https://accounts.google.com/o/oauth2/auth?client_id=32555940559.apps.googleusercontent.com&redirect_uri=urn%3Aietf%3Awg%3Aoauth%3A2.0%3Aoob&scope=https%3A%2F%2Fwww.googleapis.com%2Fauth%2Fdrive&response_type=code&access_type=offline&approval_prompt=force\n",
            "··········\n",
            "Please, open the following URL in a web browser: https://accounts.google.com/o/oauth2/auth?client_id=32555940559.apps.googleusercontent.com&redirect_uri=urn%3Aietf%3Awg%3Aoauth%3A2.0%3Aoob&scope=https%3A%2F%2Fwww.googleapis.com%2Fauth%2Fdrive&response_type=code&access_type=offline&approval_prompt=force\n",
            "Please enter the verification code: Access token retrieved correctly.\n"
          ],
          "name": "stdout"
        }
      ]
    },
    {
      "cell_type": "markdown",
      "metadata": {
        "colab_type": "text",
        "id": "_20hUbQcJ3Uu"
      },
      "source": [
        "2. 코드 실행 중 secret key를 입력하라는 빈 칸이 나오면 링크를 클릭하여 구글 아이디로 로그인 하고 key를 발급받아  복사/붙이기로 칸에 입력하고 엔터를 누름(두번 반복).  \"Access token retrieved correctly.\"라는 결과가 나오는 것을 확인."
      ]
    },
    {
      "cell_type": "markdown",
      "metadata": {
        "colab_type": "text",
        "id": "Wl0sWinZLRMb"
      },
      "source": [
        "3. 아래의 코드를 실행하여 \"drive\" 이름의 폴더를 생성하고 이 폴더를 구글 드라이브와 연동."
      ]
    },
    {
      "cell_type": "code",
      "metadata": {
        "colab_type": "code",
        "id": "XESjAXi72WdF",
        "colab": {}
      },
      "source": [
        "!mkdir -p drive\n",
        "!google-drive-ocamlfuse drive"
      ],
      "execution_count": 0,
      "outputs": []
    },
    {
      "cell_type": "markdown",
      "metadata": {
        "colab_type": "text",
        "id": "jG7UloPhLfTj"
      },
      "source": [
        "4. drive 폴더에서 google drive에 있는 파일이 접근되는지 확인.\n"
      ]
    },
    {
      "cell_type": "code",
      "metadata": {
        "colab_type": "code",
        "id": "4zg6UgVDJin0",
        "outputId": "c51107ad-0472-4422-aa79-3036644b907c",
        "colab": {
          "base_uri": "https://localhost:8080/",
          "height": 1000
        }
      },
      "source": [
        "!cd drive; ls"
      ],
      "execution_count": 6,
      "outputs": [
        {
          "output_type": "stream",
          "text": [
            " 영상\n",
            "'자격증 및 입사 관련 자료'\n",
            " 잡동사니\n",
            "'0_[온라인패널조사팀] 인턴지원 - 안수현.doc'\n",
            "'10월 10일 멘토링쌤 말~.desktop'\n",
            " 오늘촬영-19947-선.jpg\n",
            "'제목 없는 프레젠테이션 - 막대 그래프 1.desktop'\n",
            "'귀농 공동체 사업 - 선 차트 1.desktop'\n",
            "'귀농 공동체 사업 - 선 차트 1.desktop (7c1c7576)'\n",
            "'귀농 공동체 사업 - 선 차트 1.desktop (89bf0d5a)'\n",
            " 2일차\n",
            "'정보처리기사20190303(해설집).hwp'\n",
            "'정보처리기사20190303(학생용).hwp'\n",
            "'정보처리기사20190303(교사용).hwp'\n",
            "'귀농 공동체 사업 - 막대 그래프 2.desktop'\n",
            "'시각화 - 막대 그래프 2.desktop'\n",
            "'고분자화학 입문 3판 솔루션.desktop'\n",
            "'하둡 설치_하이브(67) 설치.desktop'\n",
            "'ASC 16-1 - Presentation - Day 02 - 01 Apr - 0800 - Topic 01 - Introduction to Advanced Security Cooperation.desktop'\n",
            " cats_and_dogs_small_1.h5\n",
            "'Colab Notebooks'\n",
            "'Cover letter Suhyun rev1.docx'\n",
            "'발병률(천분율).csv'\n",
            " DACON.desktop\n",
            "'DACON 대본.docx'\n",
            "'DACON 대본.pdf'\n",
            "'제목 없는 프레젠테이션.desktop'\n",
            "'제목 없는 스프레드시트.desktop'\n",
            "'일기 쓰기.desktop'\n",
            "'통계 자료.desktop'\n",
            "'금전 내역.desktop'\n",
            "'귀농 공동체 사업.desktop'\n",
            "'일정 관리의 사본.desktop'\n",
            "'하이브 설치 및 오류제거.desktop'\n",
            "'통계학 정리.desktop'\n",
            "'기온과 자살률의 연관 분석.desktop'\n",
            "'오라클 설치하기.desktop'\n",
            "'자소서 인공지능.desktop'\n",
            "'관심있는 회사.desktop'\n",
            "'프로젝트 타임라인.desktop'\n",
            " 과즙음료_머신러닝모델분석.desktop\n",
            " 대만여행.desktop\n",
            "'머신러닝을 이용한 전력 수요 예측 모델.desktop'\n",
            " 안녕하세요.desktop\n",
            " 자기앞수표.desktop\n",
            " 의약품처방정보통계.desktop\n",
            "'제목 없는 프레젠테이션.desktop (ac176496)'\n",
            "'[온라인패널조사팀] 인턴지원 - 안수현.doc'\n",
            "'Fellows Personal Profile - Byrd.desktop'\n",
            "'git blog 만들기.desktop'\n",
            "'git  설치하기.desktop'\n",
            "'github desktop 설치 방법.desktop'\n",
            " HelloOpicIntermediate.pdf\n",
            "'[Lightspeed마케팅조사] 인턴지원 - 안수현(10.31).doc'\n",
            " logs\n",
            " no13\n",
            "'특집  주체 없이 행위성을 설명하기 -주디스 버틀러의 수행성 개념을 중심으로-.pdf'\n",
            "'언제나 몇번이라도.pdf'\n",
            " 통계분석ppt.desktop\n",
            "'인지주의 인공지능.pptx'\n",
            "'슈츠(Schutz)와 현상학 합친거-1.pptx'\n",
            "'VMware, 리눅스, 리눅스 안에 자바 설치하기.desktop'\n",
            " WEST서류\n",
            "'포트폴리오(WORD).egg'\n",
            "'욜로(YOLO)와 사회적·경제적 배경에 대한 고찰.hwp'\n",
            "'[알랭 드 보통] 왜 나는 너를 사랑하는가.zip'\n"
          ],
          "name": "stdout"
        }
      ]
    },
    {
      "cell_type": "markdown",
      "metadata": {
        "colab_type": "text",
        "id": "-FT84y8wb4E7"
      },
      "source": [
        "- 일정 시간이 지나면 연동이 해제되므로 다시 실행해 주어야 함."
      ]
    },
    {
      "cell_type": "markdown",
      "metadata": {
        "colab_type": "text",
        "id": "ZTFXtEnmP9G3"
      },
      "source": [
        "## Tensorboard 사용하기\n",
        "- 연동된 google drive 상의 폴더에 tensorboard 실행 시의 log 파일을 저장하고 이를 확인하는 예제 "
      ]
    },
    {
      "cell_type": "markdown",
      "metadata": {
        "colab_type": "text",
        "id": "fizVj-jaSixl"
      },
      "source": [
        "#### Import data"
      ]
    },
    {
      "cell_type": "code",
      "metadata": {
        "colab_type": "code",
        "id": "Z134YkqNQDv5",
        "outputId": "cf0e3360-0dbb-4232-9e9d-ad2e27f95e69",
        "colab": {
          "base_uri": "https://localhost:8080/",
          "height": 53
        }
      },
      "source": [
        "from keras.datasets import mnist   \n",
        "from keras.utils import to_categorical\n",
        "\n",
        "(train_images, train_labels), (test_images, test_labels) = mnist.load_data()\n",
        "\n",
        "train_images = train_images.reshape((60000, 28, 28, 1))\n",
        "train_images = train_images.astype('float32') / 255\n",
        "\n",
        "test_images = test_images.reshape((10000, 28, 28, 1))\n",
        "test_images = test_images.astype('float32') / 255\n",
        "\n",
        "train_labels = to_categorical(train_labels)\n",
        "test_labels = to_categorical(test_labels)"
      ],
      "execution_count": 7,
      "outputs": [
        {
          "output_type": "stream",
          "text": [
            "Downloading data from https://s3.amazonaws.com/img-datasets/mnist.npz\n",
            "11493376/11490434 [==============================] - 1s 0us/step\n"
          ],
          "name": "stdout"
        }
      ]
    },
    {
      "cell_type": "code",
      "metadata": {
        "colab_type": "code",
        "id": "7RejGwHsT8dV",
        "colab": {
          "base_uri": "https://localhost:8080/",
          "height": 35
        },
        "outputId": "fe166239-c532-4a6f-b585-2f265acd57b9"
      },
      "source": [
        "train_images.shape"
      ],
      "execution_count": 8,
      "outputs": [
        {
          "output_type": "execute_result",
          "data": {
            "text/plain": [
              "(60000, 28, 28, 1)"
            ]
          },
          "metadata": {
            "tags": []
          },
          "execution_count": 8
        }
      ]
    },
    {
      "cell_type": "markdown",
      "metadata": {
        "colab_type": "text",
        "id": "BvFeVlk6Snfh"
      },
      "source": [
        "#### `LOG_DIR`에 log를 기록할 위치를 지정하고 tensorboard의 실행 port에 접근할 수 있는 링크 생성\n",
        "- Google drive의 `data/tb_logs` 폴더에 저장하도록 지정함.\n",
        "- Tensorboard를 실행하고 나면 Google drive에서 해당 폴더가 생성되어 있고 그 안에 log 파일이 있는 것이 확인됨."
      ]
    },
    {
      "cell_type": "code",
      "metadata": {
        "colab_type": "code",
        "id": "Vafa5h3-SfXS",
        "outputId": "c81ce2d8-e13e-4b5d-cd81-4feaa5a9d47f",
        "colab": {
          "base_uri": "https://localhost:8080/",
          "height": 305
        }
      },
      "source": [
        "\n",
        "LOG_DIR = '/content/drive/data/tb_logs'  \n",
        "\n",
        "!wget https://bin.equinox.io/c/4VmDzA7iaHb/ngrok-stable-linux-amd64.zip\n",
        "!unzip ngrok-stable-linux-amd64.zip\n",
        "\n",
        "import os\n",
        "if not os.path.exists(LOG_DIR):\n",
        "  os.makedirs(LOG_DIR)\n",
        "\n",
        "get_ipython().system_raw(\n",
        "    'tensorboard --logdir {} --host 0.0.0.0 --port 6006 &'\n",
        "    .format(LOG_DIR))\n",
        "\n",
        "get_ipython().system_raw('./ngrok http 6006 &')\n",
        "\n",
        "!curl -s http://localhost:4040/api/tunnels | python3 -c \\\n",
        "    \"import sys, json; print(json.load(sys.stdin)['tunnels'][0]['public_url'])\""
      ],
      "execution_count": 9,
      "outputs": [
        {
          "output_type": "stream",
          "text": [
            "--2019-12-10 08:52:06--  https://bin.equinox.io/c/4VmDzA7iaHb/ngrok-stable-linux-amd64.zip\n",
            "Resolving bin.equinox.io (bin.equinox.io)... 52.2.208.1, 52.206.235.84, 3.219.64.173, ...\n",
            "Connecting to bin.equinox.io (bin.equinox.io)|52.2.208.1|:443... connected.\n",
            "HTTP request sent, awaiting response... 200 OK\n",
            "Length: 13773305 (13M) [application/octet-stream]\n",
            "Saving to: ‘ngrok-stable-linux-amd64.zip’\n",
            "\n",
            "ngrok-stable-linux- 100%[===================>]  13.13M  17.7MB/s    in 0.7s    \n",
            "\n",
            "2019-12-10 08:52:07 (17.7 MB/s) - ‘ngrok-stable-linux-amd64.zip’ saved [13773305/13773305]\n",
            "\n",
            "Archive:  ngrok-stable-linux-amd64.zip\n",
            "  inflating: ngrok                   \n",
            "Traceback (most recent call last):\n",
            "  File \"<string>\", line 1, in <module>\n",
            "IndexError: list index out of range\n"
          ],
          "name": "stdout"
        }
      ]
    },
    {
      "cell_type": "markdown",
      "metadata": {
        "colab_type": "text",
        "id": "iTe1NCdmVT8U"
      },
      "source": [
        "#### Model building 및 fitting 시 TensorBoard 활용\n",
        "- TensorBoard의 `log_dir`를 위에서 지정한 `LOG_DIR` 안에 실행 시간을 이름으로 하는 폴더로 지정. \n",
        "- `model.fit`을 실행한 후 위의 코드 실행 후 출력된 주소를 클릭하면 tensorboard가 실행됨."
      ]
    },
    {
      "cell_type": "code",
      "metadata": {
        "colab_type": "code",
        "id": "D3YZk6dtSQ94",
        "outputId": "f5b7b975-fd02-4fef-a072-d35b62cb493d",
        "colab": {
          "base_uri": "https://localhost:8080/",
          "height": 683
        }
      },
      "source": [
        "## Your answer comes here.\n",
        "from keras.callbacks import TensorBoard\n",
        "from keras.models import Sequential\n",
        "from keras import layers\n",
        "import time \n",
        "now = time.strftime(\"%c\")\n",
        "\n",
        "\n",
        "model = Sequential()\n",
        "model.add(layers.Conv2D(32, (3, 3), activation='relu', input_shape=(28, 28, 1)))\n",
        "model.add(layers.MaxPooling2D((2, 2)))\n",
        "model.add(layers.Conv2D(64, (3, 3), activation='relu'))\n",
        "model.add(layers.MaxPooling2D((2, 2)))\n",
        "model.add(layers.Flatten())\n",
        "model.add(layers.Dense(64, activation='relu'))\n",
        "model.add(layers.Dense(10, activation='softmax'))\n",
        "\n",
        "model.compile(optimizer='rmsprop',\n",
        "              loss='categorical_crossentropy',\n",
        "              metrics=['accuracy'])\n",
        "\n",
        "callbacks_list = [\n",
        "    TensorBoard(log_dir=LOG_DIR+'/'+now),\n",
        "]\n",
        "\n",
        "model.fit(train_images, train_labels, epochs=5, batch_size=128, validation_split=0.2, callbacks=callbacks_list)\n"
      ],
      "execution_count": 10,
      "outputs": [
        {
          "output_type": "stream",
          "text": [
            "WARNING:tensorflow:From /usr/local/lib/python3.6/dist-packages/tensorflow_core/python/ops/math_grad.py:1424: where (from tensorflow.python.ops.array_ops) is deprecated and will be removed in a future version.\n",
            "Instructions for updating:\n",
            "Use tf.where in 2.0, which has the same broadcast rule as np.where\n",
            "WARNING:tensorflow:From /usr/local/lib/python3.6/dist-packages/keras/backend/tensorflow_backend.py:1033: The name tf.assign_add is deprecated. Please use tf.compat.v1.assign_add instead.\n",
            "\n",
            "WARNING:tensorflow:From /usr/local/lib/python3.6/dist-packages/keras/backend/tensorflow_backend.py:1020: The name tf.assign is deprecated. Please use tf.compat.v1.assign instead.\n",
            "\n",
            "WARNING:tensorflow:From /usr/local/lib/python3.6/dist-packages/keras/backend/tensorflow_backend.py:3005: The name tf.Session is deprecated. Please use tf.compat.v1.Session instead.\n",
            "\n",
            "Train on 48000 samples, validate on 12000 samples\n",
            "WARNING:tensorflow:From /usr/local/lib/python3.6/dist-packages/keras/backend/tensorflow_backend.py:190: The name tf.get_default_session is deprecated. Please use tf.compat.v1.get_default_session instead.\n",
            "\n",
            "WARNING:tensorflow:From /usr/local/lib/python3.6/dist-packages/keras/backend/tensorflow_backend.py:197: The name tf.ConfigProto is deprecated. Please use tf.compat.v1.ConfigProto instead.\n",
            "\n",
            "WARNING:tensorflow:From /usr/local/lib/python3.6/dist-packages/keras/backend/tensorflow_backend.py:207: The name tf.global_variables is deprecated. Please use tf.compat.v1.global_variables instead.\n",
            "\n",
            "WARNING:tensorflow:From /usr/local/lib/python3.6/dist-packages/keras/backend/tensorflow_backend.py:216: The name tf.is_variable_initialized is deprecated. Please use tf.compat.v1.is_variable_initialized instead.\n",
            "\n",
            "WARNING:tensorflow:From /usr/local/lib/python3.6/dist-packages/keras/backend/tensorflow_backend.py:223: The name tf.variables_initializer is deprecated. Please use tf.compat.v1.variables_initializer instead.\n",
            "\n",
            "WARNING:tensorflow:From /usr/local/lib/python3.6/dist-packages/keras/callbacks.py:1122: The name tf.summary.merge_all is deprecated. Please use tf.compat.v1.summary.merge_all instead.\n",
            "\n",
            "WARNING:tensorflow:From /usr/local/lib/python3.6/dist-packages/keras/callbacks.py:1125: The name tf.summary.FileWriter is deprecated. Please use tf.compat.v1.summary.FileWriter instead.\n",
            "\n",
            "Epoch 1/5\n",
            "48000/48000 [==============================] - 37s 769us/step - loss: 0.2607 - acc: 0.9192 - val_loss: 0.0846 - val_acc: 0.9733\n",
            "WARNING:tensorflow:From /usr/local/lib/python3.6/dist-packages/keras/callbacks.py:1265: The name tf.Summary is deprecated. Please use tf.compat.v1.Summary instead.\n",
            "\n",
            "Epoch 2/5\n",
            "48000/48000 [==============================] - 36s 757us/step - loss: 0.0689 - acc: 0.9784 - val_loss: 0.0587 - val_acc: 0.9829\n",
            "Epoch 3/5\n",
            "48000/48000 [==============================] - 36s 755us/step - loss: 0.0462 - acc: 0.9858 - val_loss: 0.0528 - val_acc: 0.9836\n",
            "Epoch 4/5\n",
            "48000/48000 [==============================] - 36s 757us/step - loss: 0.0355 - acc: 0.9888 - val_loss: 0.0488 - val_acc: 0.9870\n",
            "Epoch 5/5\n",
            "48000/48000 [==============================] - 36s 754us/step - loss: 0.0283 - acc: 0.9915 - val_loss: 0.0404 - val_acc: 0.9882\n"
          ],
          "name": "stdout"
        },
        {
          "output_type": "execute_result",
          "data": {
            "text/plain": [
              "<keras.callbacks.History at 0x7fd3a7481c88>"
            ]
          },
          "metadata": {
            "tags": []
          },
          "execution_count": 10
        }
      ]
    },
    {
      "cell_type": "code",
      "metadata": {
        "colab_type": "code",
        "id": "FPXR6CHgTd0Y",
        "colab": {}
      },
      "source": [
        ""
      ],
      "execution_count": 0,
      "outputs": []
    }
  ]
}