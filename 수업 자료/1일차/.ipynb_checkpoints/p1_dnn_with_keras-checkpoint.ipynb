{
 "cells": [
  {
   "cell_type": "markdown",
   "metadata": {},
   "source": [
    "<font color='mediumblue'>\n",
    "## How to Build Neural Networks <br>\n",
    "Constructing Neural Networks to solve ML problems is a multiple-stage process. Generally, one can identify the key steps as follows:\n",
    "* ***step 1:*** Load and process the data\n",
    "* ***step 2:*** Define the model and its architecture\n",
    "* ***step 3:*** Choose the optimizer and the cost function\n",
    "* ***step 4:*** Train the model \n",
    "* ***step 5:*** Evaluate the model performance on the *unseen* test data\n",
    "* ***step 6:*** Modify the hyperparameters to optimize performance for the specific data set *(optional)*"
   ]
  },
  {
   "cell_type": "markdown",
   "metadata": {
    "colab_type": "text",
    "id": "ATYXO4XwySxL"
   },
   "source": [
    "## A real example — recognizing handwritten digits ##\n",
    "We will build networks that can recognize handwritten numbers. <br>\n",
    "For achieving this goal, we use MNIST, a database of handwritten digits made up of a training set of 60,000\n",
    "examples and a test set of 10,000 examples. \n",
    "<br>The training examples are annotated by humans\n",
    "with the correct answer. \n",
    "<br>For instance, if the handwritten digit is the number three, then\n",
    "three is simply the label associated with that example.<br>\n",
    "Each MNIST image is in gray scale, and it consists of 28 x 28 pixels. A subset of these\n",
    "numbers is represented in the following diagram:\n",
    "![Deep%20Learning%20with%20Keras.bmp](https://encrypted-tbn0.gstatic.com/images?q=tbn:ANd9GcToXD458Zgqs8VLLzbJPImOK6EgAf4OBquibDaUnw344dkcd1kT)"
   ]
  },
  {
   "cell_type": "markdown",
   "metadata": {},
   "source": [
    "We will build six different neural networks and compare their performance:\n",
    "* [Case #1: Defining a simple neural net in Keras](#Case-#1:-Defining-a-simple-neural-net-in-Keras)\n",
    "* [Case #2: Improving the simple net in Keras with hidden layers](#Case-#2:-Improving-the-simple-net-in-Keras-with-hidden-layers)\n",
    "* [Case #3: Further improving the simple net in Keras with dropout](#Case-#3:-Further-improving-the-simple-net-in-Keras-with-dropout)\n",
    "* [Case #4: Testing different optimizers in Keras](#Case-#4:-Testing-different-optimizers-in-Keras)\n",
    "* [Case #5: Adopting regularization for avoiding overfitting](#Case-#5:-Adopting-regularization-for-avoiding-overfitting)\n",
    "* [Case #6: Optimizing hyperparameters with Keras-scikit-wrapper](#Case-#6:-Optimizing-hyperparameters-with-Keras-scikit-wrapper)"
   ]
  },
  {
   "cell_type": "markdown",
   "metadata": {
    "colab_type": "text",
    "id": "ATYXO4XwySxL"
   },
   "source": [
    "<font color = \"#CC3D3D\">\n",
    "## Case #1: Defining a simple neural net in Keras"
   ]
  },
  {
   "cell_type": "markdown",
   "metadata": {},
   "source": [
    "##### Set Up"
   ]
  },
  {
   "cell_type": "code",
   "execution_count": null,
   "metadata": {
    "colab": {
     "autoexec": {
      "startup": false,
      "wait_interval": 0
     },
     "base_uri": "https://localhost:8080/",
     "height": 35
    },
    "colab_type": "code",
    "executionInfo": {
     "elapsed": 2311,
     "status": "ok",
     "timestamp": 1525167296818,
     "user": {
      "displayName": "­조윤호(빅데이터경영통계전공)",
      "photoUrl": "https://lh3.googleusercontent.com/a/default-user=s128",
      "userId": "107121563618260277687"
     },
     "user_tz": -540
    },
    "id": "Gu7X8RqjySxN",
    "outputId": "bed732bd-7ed9-49cb-d1bb-d9156005e60f"
   },
   "outputs": [],
   "source": [
    "# 모델 시각화 및 저장을 위해 관련 패키지를 아래와 같이 설치해야 한다.\n",
    "\n",
    "# !pip install pydot graphviz h5py"
   ]
  },
  {
   "cell_type": "code",
   "execution_count": 1,
   "metadata": {
    "colab": {
     "autoexec": {
      "startup": false,
      "wait_interval": 0
     },
     "base_uri": "https://localhost:8080/",
     "height": 35
    },
    "colab_type": "code",
    "executionInfo": {
     "elapsed": 2311,
     "status": "ok",
     "timestamp": 1525167296818,
     "user": {
      "displayName": "­조윤호(빅데이터경영통계전공)",
      "photoUrl": "https://lh3.googleusercontent.com/a/default-user=s128",
      "userId": "107121563618260277687"
     },
     "user_tz": -540
    },
    "id": "Gu7X8RqjySxN",
    "outputId": "bed732bd-7ed9-49cb-d1bb-d9156005e60f"
   },
   "outputs": [
    {
     "name": "stderr",
     "output_type": "stream",
     "text": [
      "Using TensorFlow backend.\n"
     ]
    }
   ],
   "source": [
    "#\n",
    "# Setting for obtaining reproducible results\n",
    "#\n",
    "\n",
    "import numpy as np\n",
    "import tensorflow as tf\n",
    "import random as rn\n",
    "\n",
    "# The below is necessary in Python 3.2.3 onwards to\n",
    "# have reproducible behavior for certain hash-based operations.\n",
    "# See these references for further details:\n",
    "# https://docs.python.org/3.4/using/cmdline.html#envvar-PYTHONHASHSEED\n",
    "# https://github.com/keras-team/keras/issues/2280#issuecomment-306959926\n",
    "\n",
    "import os\n",
    "os.environ['PYTHONHASHSEED'] = '0'\n",
    "\n",
    "# The below is necessary for starting Numpy generated random numbers\n",
    "# in a well-defined initial state.\n",
    "\n",
    "np.random.seed(42)\n",
    "\n",
    "# The below is necessary for starting core Python generated random numbers\n",
    "# in a well-defined state.\n",
    "\n",
    "#rn.seed(12345)\n",
    "\n",
    "# Force TensorFlow to use single thread.\n",
    "# Multiple threads are a potential source of\n",
    "# non-reproducible results.\n",
    "\n",
    "session_conf = tf.ConfigProto(intra_op_parallelism_threads=1, \n",
    "                              inter_op_parallelism_threads=1)\n",
    "\n",
    "from keras import backend as K\n",
    "\n",
    "# The below tf.set_random_seed() will make random number generation\n",
    "# in the TensorFlow backend have a well-defined initial state.\n",
    "# For further details, \n",
    "# see: https://www.tensorflow.org/api_docs/python/tf/set_random_seed\n",
    "\n",
    "tf.set_random_seed(1234)\n",
    "\n",
    "sess = tf.Session(graph=tf.get_default_graph(), config=session_conf)\n",
    "K.set_session(sess)"
   ]
  },
  {
   "cell_type": "code",
   "execution_count": 2,
   "metadata": {
    "colab": {
     "autoexec": {
      "startup": false,
      "wait_interval": 0
     },
     "base_uri": "https://localhost:8080/",
     "height": 35
    },
    "colab_type": "code",
    "executionInfo": {
     "elapsed": 2311,
     "status": "ok",
     "timestamp": 1525167296818,
     "user": {
      "displayName": "­조윤호(빅데이터경영통계전공)",
      "photoUrl": "https://lh3.googleusercontent.com/a/default-user=s128",
      "userId": "107121563618260277687"
     },
     "user_tz": -540
    },
    "id": "Gu7X8RqjySxN",
    "outputId": "bed732bd-7ed9-49cb-d1bb-d9156005e60f"
   },
   "outputs": [],
   "source": [
    "import keras, sklearn\n",
    "import matplotlib.pyplot as plt\n",
    "from keras.datasets import mnist\n",
    "from keras.models import Sequential\n",
    "from keras.layers.core import Dense, Activation\n",
    "from keras.optimizers import SGD\n",
    "from keras.utils import np_utils"
   ]
  },
  {
   "cell_type": "markdown",
   "metadata": {
    "colab_type": "text",
    "id": "ssz9-VkkySxe"
   },
   "source": [
    "### Step 1: Load and Process the Data ###"
   ]
  },
  {
   "cell_type": "code",
   "execution_count": 3,
   "metadata": {
    "colab": {
     "autoexec": {
      "startup": false,
      "wait_interval": 0
     },
     "base_uri": "https://localhost:8080/",
     "height": 89
    },
    "colab_type": "code",
    "executionInfo": {
     "elapsed": 3786,
     "status": "ok",
     "timestamp": 1525167308978,
     "user": {
      "displayName": "­조윤호(빅데이터경영통계전공)",
      "photoUrl": "https://lh3.googleusercontent.com/a/default-user=s128",
      "userId": "107121563618260277687"
     },
     "user_tz": -540
    },
    "id": "G-eVw42hySxg",
    "outputId": "5c4fcfeb-8775-444d-df3a-d35d629a8349"
   },
   "outputs": [
    {
     "name": "stdout",
     "output_type": "stream",
     "text": [
      "60000 train samples\n",
      "10000 test samples\n"
     ]
    }
   ],
   "source": [
    "# mnist 이미지 데이터\n",
    "(X_train, y_train), (X_test, y_test) = mnist.load_data()\n",
    "#X_train is 60000 rows of 28x28 values --> reshaped in 60000 x 784\n",
    "RESHAPED = 784 # 전체 픽셀 갯수\n",
    "\n",
    "X_train = X_train.reshape(60000, RESHAPED) # 학습이미지 6만개\n",
    "X_test = X_test.reshape(10000, RESHAPED) # 평가이미지 만개\n",
    "X_train = X_train.astype('float32')\n",
    "X_test = X_test.astype('float32')\n",
    "\n",
    "# 한 픽셀 값은 0~255로 표현된다. 0은 흰색, 255는 검은색\n",
    "\n",
    "# normalize\n",
    "X_train /= 255 \n",
    "X_test /= 255\n",
    "print(X_train.shape[0], 'train samples')\n",
    "print(X_test.shape[0], 'test samples')\n",
    "\n",
    "# convert class vectors to binary class matrices\n",
    "# 뉴럴넷은 입력데이터에 대한 스케일 조정이 필요\n",
    "# to_categorical : 찾을 값이 0~9까지이므로 10개로 원핫 인코딩을 한다.\n",
    "Y_train = np_utils.to_categorical(y_train, 10)\n",
    "Y_test = np_utils.to_categorical(y_test, 10)"
   ]
  },
  {
   "cell_type": "markdown",
   "metadata": {
    "colab_type": "text",
    "id": "PPOWln24ySxl"
   },
   "source": [
    "### Step 2: Define the Model & its Architecture ###"
   ]
  },
  {
   "cell_type": "code",
   "execution_count": 4,
   "metadata": {
    "colab": {
     "autoexec": {
      "startup": false,
      "wait_interval": 0
     },
     "base_uri": "https://localhost:8080/",
     "height": 215
    },
    "colab_type": "code",
    "executionInfo": {
     "elapsed": 656,
     "status": "ok",
     "timestamp": 1525167312928,
     "user": {
      "displayName": "­조윤호(빅데이터경영통계전공)",
      "photoUrl": "https://lh3.googleusercontent.com/a/default-user=s128",
      "userId": "107121563618260277687"
     },
     "user_tz": -540
    },
    "id": "s2e6eVxBySxn",
    "outputId": "a2a5c500-0025-4e7c-fd08-072c2a0c59ce"
   },
   "outputs": [
    {
     "name": "stdout",
     "output_type": "stream",
     "text": [
      "WARNING:tensorflow:From D:\\anaconda\\envs\\keras\\lib\\site-packages\\keras\\backend\\tensorflow_backend.py:517: The name tf.placeholder is deprecated. Please use tf.compat.v1.placeholder instead.\n",
      "\n",
      "WARNING:tensorflow:From D:\\anaconda\\envs\\keras\\lib\\site-packages\\keras\\backend\\tensorflow_backend.py:4138: The name tf.random_uniform is deprecated. Please use tf.random.uniform instead.\n",
      "\n",
      "_________________________________________________________________\n",
      "Layer (type)                 Output Shape              Param #   \n",
      "=================================================================\n",
      "dense_1 (Dense)              (None, 10)                7850      \n",
      "_________________________________________________________________\n",
      "activation_1 (Activation)    (None, 10)                0         \n",
      "=================================================================\n",
      "Total params: 7,850\n",
      "Trainable params: 7,850\n",
      "Non-trainable params: 0\n",
      "_________________________________________________________________\n"
     ]
    }
   ],
   "source": [
    "# 10 outputs\n",
    "# final stage is softmax\n",
    "model = Sequential()\n",
    "\n",
    "# Dense : 입력모드가 784(RESHAPED), 첫번째 히든레이어는 10개로 연결하라\n",
    "model.add(Dense(10, input_shape=(RESHAPED,))) \n",
    "model.add(Activation('softmax'))\n",
    "\n",
    "model.summary() # 종합한것을 본다.  \n",
    "# Param 이 weight 이다. 7850개를 학습시키면 된다."
   ]
  },
  {
   "cell_type": "code",
   "execution_count": 5,
   "metadata": {
    "colab": {
     "autoexec": {
      "startup": false,
      "wait_interval": 0
     },
     "base_uri": "https://localhost:8080/",
     "height": 604
    },
    "colab_type": "code",
    "executionInfo": {
     "elapsed": 844,
     "status": "error",
     "timestamp": 1525166603719,
     "user": {
      "displayName": "­조윤호(빅데이터경영통계전공)",
      "photoUrl": "https://lh3.googleusercontent.com/a/default-user=s128",
      "userId": "107121563618260277687"
     },
     "user_tz": -540
    },
    "id": "auG6u0kLySxs",
    "outputId": "6a342f5b-4ca4-464d-958e-5a2413828293"
   },
   "outputs": [
    {
     "data": {
      "image/png": "[encoded data removed]",
      "text/plain": [
       "<IPython.core.display.Image object>"
      ]
     },
     "execution_count": 5,
     "metadata": {},
     "output_type": "execute_result"
    }
   ],
   "source": [
    "from IPython.display import Image\n",
    "from keras.utils.vis_utils import model_to_dot\n",
    "\n",
    "Image(model_to_dot(model,show_shapes=True, show_layer_names=False).create(prog='dot', format='png'))"
   ]
  },
  {
   "cell_type": "markdown",
   "metadata": {},
   "source": [
    "### Step 3: Choose the Optimizer and the Cost function"
   ]
  },
  {
   "cell_type": "code",
   "execution_count": 6,
   "metadata": {
    "colab": {
     "autoexec": {
      "startup": false,
      "wait_interval": 0
     },
     "base_uri": "https://localhost:8080/",
     "height": 1516
    },
    "colab_type": "code",
    "executionInfo": {
     "elapsed": 34654,
     "status": "ok",
     "timestamp": 1525167354316,
     "user": {
      "displayName": "­조윤호(빅데이터경영통계전공)",
      "photoUrl": "https://lh3.googleusercontent.com/a/default-user=s128",
      "userId": "107121563618260277687"
     },
     "user_tz": -540
    },
    "id": "gFE6aAZNySx0",
    "outputId": "05efd6b2-ae99-4041-ca43-915a1ce58856"
   },
   "outputs": [
    {
     "name": "stdout",
     "output_type": "stream",
     "text": [
      "WARNING:tensorflow:From D:\\anaconda\\envs\\keras\\lib\\site-packages\\keras\\optimizers.py:790: The name tf.train.Optimizer is deprecated. Please use tf.compat.v1.train.Optimizer instead.\n",
      "\n",
      "WARNING:tensorflow:From D:\\anaconda\\envs\\keras\\lib\\site-packages\\keras\\backend\\tensorflow_backend.py:3295: The name tf.log is deprecated. Please use tf.math.log instead.\n",
      "\n"
     ]
    }
   ],
   "source": [
    "# optimizer : SGD 는 최적의 방법을 찾는 것\n",
    "model.compile(loss='categorical_crossentropy', optimizer=SGD(), metrics=['accuracy'])"
   ]
  },
  {
   "cell_type": "markdown",
   "metadata": {
    "colab_type": "text",
    "id": "_JWYMMeGySxy"
   },
   "source": [
    "### Step 4: Train the Model"
   ]
  },
  {
   "cell_type": "code",
   "execution_count": 7,
   "metadata": {
    "colab": {
     "autoexec": {
      "startup": false,
      "wait_interval": 0
     },
     "base_uri": "https://localhost:8080/",
     "height": 1516
    },
    "colab_type": "code",
    "executionInfo": {
     "elapsed": 34654,
     "status": "ok",
     "timestamp": 1525167354316,
     "user": {
      "displayName": "­조윤호(빅데이터경영통계전공)",
      "photoUrl": "https://lh3.googleusercontent.com/a/default-user=s128",
      "userId": "107121563618260277687"
     },
     "user_tz": -540
    },
    "id": "gFE6aAZNySx0",
    "outputId": "05efd6b2-ae99-4041-ca43-915a1ce58856"
   },
   "outputs": [
    {
     "name": "stdout",
     "output_type": "stream",
     "text": [
      "WARNING:tensorflow:From D:\\anaconda\\envs\\keras\\lib\\site-packages\\tensorflow_core\\python\\ops\\math_grad.py:1424: where (from tensorflow.python.ops.array_ops) is deprecated and will be removed in a future version.\n",
      "Instructions for updating:\n",
      "Use tf.where in 2.0, which has the same broadcast rule as np.where\n",
      "WARNING:tensorflow:From D:\\anaconda\\envs\\keras\\lib\\site-packages\\keras\\backend\\tensorflow_backend.py:986: The name tf.assign_add is deprecated. Please use tf.compat.v1.assign_add instead.\n",
      "\n",
      "WARNING:tensorflow:From D:\\anaconda\\envs\\keras\\lib\\site-packages\\keras\\backend\\tensorflow_backend.py:973: The name tf.assign is deprecated. Please use tf.compat.v1.assign instead.\n",
      "\n",
      "Train on 48000 samples, validate on 12000 samples\n",
      "Epoch 1/30\n",
      "WARNING:tensorflow:From D:\\anaconda\\envs\\keras\\lib\\site-packages\\keras\\backend\\tensorflow_backend.py:174: The name tf.get_default_session is deprecated. Please use tf.compat.v1.get_default_session instead.\n",
      "\n",
      "WARNING:tensorflow:From D:\\anaconda\\envs\\keras\\lib\\site-packages\\keras\\backend\\tensorflow_backend.py:190: The name tf.global_variables is deprecated. Please use tf.compat.v1.global_variables instead.\n",
      "\n",
      "WARNING:tensorflow:From D:\\anaconda\\envs\\keras\\lib\\site-packages\\keras\\backend\\tensorflow_backend.py:199: The name tf.is_variable_initialized is deprecated. Please use tf.compat.v1.is_variable_initialized instead.\n",
      "\n",
      "WARNING:tensorflow:From D:\\anaconda\\envs\\keras\\lib\\site-packages\\keras\\backend\\tensorflow_backend.py:206: The name tf.variables_initializer is deprecated. Please use tf.compat.v1.variables_initializer instead.\n",
      "\n",
      "48000/48000 [==============================] - 2s 43us/step - loss: 1.3995 - acc: 0.6581 - val_loss: 0.8983 - val_acc: 0.8258\n",
      "Epoch 2/30\n",
      "48000/48000 [==============================] - 1s 13us/step - loss: 0.7951 - acc: 0.8276 - val_loss: 0.6579 - val_acc: 0.8565\n",
      "Epoch 3/30\n",
      "48000/48000 [==============================] - 1s 14us/step - loss: 0.6440 - acc: 0.8499 - val_loss: 0.5617 - val_acc: 0.8683\n",
      "Epoch 4/30\n",
      "48000/48000 [==============================] - 1s 17us/step - loss: 0.5711 - acc: 0.8608 - val_loss: 0.5088 - val_acc: 0.8767\n",
      "Epoch 5/30\n",
      "48000/48000 [==============================] - 1s 14us/step - loss: 0.5269 - acc: 0.8675 - val_loss: 0.4746 - val_acc: 0.8818\n",
      "Epoch 6/30\n",
      "48000/48000 [==============================] - 1s 19us/step - loss: 0.4964 - acc: 0.8732 - val_loss: 0.4505 - val_acc: 0.8868\n",
      "Epoch 7/30\n",
      "48000/48000 [==============================] - 1s 13us/step - loss: 0.4739 - acc: 0.8772 - val_loss: 0.4322 - val_acc: 0.8910\n",
      "Epoch 8/30\n",
      "48000/48000 [==============================] - 1s 14us/step - loss: 0.4565 - acc: 0.8805 - val_loss: 0.4181 - val_acc: 0.8924\n",
      "Epoch 9/30\n",
      "48000/48000 [==============================] - 1s 21us/step - loss: 0.4424 - acc: 0.8827 - val_loss: 0.4063 - val_acc: 0.8952\n",
      "Epoch 10/30\n",
      "48000/48000 [==============================] - 1s 16us/step - loss: 0.4308 - acc: 0.8849 - val_loss: 0.3968 - val_acc: 0.8963\n",
      "Epoch 11/30\n",
      "48000/48000 [==============================] - 1s 18us/step - loss: 0.4209 - acc: 0.8870 - val_loss: 0.3885 - val_acc: 0.8982\n",
      "Epoch 12/30\n",
      "48000/48000 [==============================] - 1s 17us/step - loss: 0.4125 - acc: 0.8888 - val_loss: 0.3816 - val_acc: 0.8997\n",
      "Epoch 13/30\n",
      "48000/48000 [==============================] - 1s 16us/step - loss: 0.4052 - acc: 0.8902 - val_loss: 0.3757 - val_acc: 0.9015\n",
      "Epoch 14/30\n",
      "48000/48000 [==============================] - 1s 13us/step - loss: 0.3987 - acc: 0.8916 - val_loss: 0.3702 - val_acc: 0.9023\n",
      "Epoch 15/30\n",
      "48000/48000 [==============================] - 1s 16us/step - loss: 0.3928 - acc: 0.8932 - val_loss: 0.3653 - val_acc: 0.9040\n",
      "Epoch 16/30\n",
      "48000/48000 [==============================] - 1s 15us/step - loss: 0.3877 - acc: 0.8941 - val_loss: 0.3611 - val_acc: 0.9045\n",
      "Epoch 17/30\n",
      "48000/48000 [==============================] - 1s 13us/step - loss: 0.3830 - acc: 0.8954 - val_loss: 0.3571 - val_acc: 0.9054\n",
      "Epoch 18/30\n",
      "48000/48000 [==============================] - 1s 13us/step - loss: 0.3787 - acc: 0.8965 - val_loss: 0.3536 - val_acc: 0.9056\n",
      "Epoch 19/30\n",
      "48000/48000 [==============================] - 1s 17us/step - loss: 0.3747 - acc: 0.8971 - val_loss: 0.3506 - val_acc: 0.9052\n",
      "Epoch 20/30\n",
      "48000/48000 [==============================] - 1s 14us/step - loss: 0.3711 - acc: 0.8977 - val_loss: 0.3474 - val_acc: 0.9073\n",
      "Epoch 21/30\n",
      "48000/48000 [==============================] - 1s 15us/step - loss: 0.3678 - acc: 0.8984 - val_loss: 0.3446 - val_acc: 0.9082\n",
      "Epoch 22/30\n",
      "48000/48000 [==============================] - 1s 13us/step - loss: 0.3646 - acc: 0.8991 - val_loss: 0.3421 - val_acc: 0.9083\n",
      "Epoch 23/30\n",
      "48000/48000 [==============================] - 1s 13us/step - loss: 0.3618 - acc: 0.9001 - val_loss: 0.3397 - val_acc: 0.9091\n",
      "Epoch 24/30\n",
      "48000/48000 [==============================] - 1s 12us/step - loss: 0.3591 - acc: 0.9006 - val_loss: 0.3376 - val_acc: 0.9096\n",
      "Epoch 25/30\n",
      "48000/48000 [==============================] - 1s 12us/step - loss: 0.3565 - acc: 0.9014 - val_loss: 0.3354 - val_acc: 0.9096\n",
      "Epoch 26/30\n",
      "48000/48000 [==============================] - 1s 13us/step - loss: 0.3541 - acc: 0.9021 - val_loss: 0.3334 - val_acc: 0.9102\n",
      "Epoch 27/30\n",
      "48000/48000 [==============================] - 1s 13us/step - loss: 0.3519 - acc: 0.9026 - val_loss: 0.3316 - val_acc: 0.9106\n",
      "Epoch 28/30\n",
      "48000/48000 [==============================] - 1s 12us/step - loss: 0.3498 - acc: 0.9033 - val_loss: 0.3300 - val_acc: 0.9108\n",
      "Epoch 29/30\n",
      "48000/48000 [==============================] - 1s 12us/step - loss: 0.3478 - acc: 0.9036 - val_loss: 0.3283 - val_acc: 0.9110\n",
      "Epoch 30/30\n",
      "48000/48000 [==============================] - 1s 13us/step - loss: 0.3459 - acc: 0.9038 - val_loss: 0.3268 - val_acc: 0.9117\n",
      "Wall time: 22.6 s\n"
     ]
    }
   ],
   "source": [
    "%%time\n",
    "# validation_split 0.2 : 80은 학습하고 20%는 평가를 위해 남겨 두겠다\n",
    "# verbose : 중간 중간의 과정을 찍을 것인지 말것인지, 얼마나 자세하게 정보를 표시할 것인가를 지정. (0, 1, 2)\n",
    "history = model.fit(X_train, Y_train, batch_size=128, epochs=30, verbose=1, \n",
    "                    validation_split=0.2)\n",
    "# history변수에 저장한 것은 나중에 체크해보기 위함."
   ]
  },
  {
   "cell_type": "code",
   "execution_count": 8,
   "metadata": {
    "colab": {
     "autoexec": {
      "startup": false,
      "wait_interval": 0
     },
     "base_uri": "https://localhost:8080/",
     "height": 1516
    },
    "colab_type": "code",
    "executionInfo": {
     "elapsed": 34654,
     "status": "ok",
     "timestamp": 1525167354316,
     "user": {
      "displayName": "­조윤호(빅데이터경영통계전공)",
      "photoUrl": "https://lh3.googleusercontent.com/a/default-user=s128",
      "userId": "107121563618260277687"
     },
     "user_tz": -540
    },
    "id": "gFE6aAZNySx0",
    "outputId": "05efd6b2-ae99-4041-ca43-915a1ce58856"
   },
   "outputs": [
    {
     "data": {
      "image/png": "[encoded data removed]",
      "text/plain": [
       "<Figure size 432x288 with 1 Axes>"
      ]
     },
     "metadata": {
      "needs_background": "light"
     },
     "output_type": "display_data"
    }
   ],
   "source": [
    "plt.plot(history.history[\"loss\"], label=\"train loss\")\n",
    "plt.plot(history.history[\"val_loss\"], label=\"validation loss\")\n",
    "plt.legend()\n",
    "plt.title(\"Loss\")\n",
    "plt.show()"
   ]
  },
  {
   "cell_type": "markdown",
   "metadata": {
    "colab_type": "text",
    "id": "go4XJWF-ySx5"
   },
   "source": [
    "### Step 5: Evaluate the Model performance"
   ]
  },
  {
   "cell_type": "code",
   "execution_count": 9,
   "metadata": {
    "colab": {
     "autoexec": {
      "startup": false,
      "wait_interval": 0
     },
     "base_uri": "https://localhost:8080/",
     "height": 71
    },
    "colab_type": "code",
    "executionInfo": {
     "elapsed": 1025,
     "status": "ok",
     "timestamp": 1525167075715,
     "user": {
      "displayName": "­조윤호(빅데이터경영통계전공)",
      "photoUrl": "https://lh3.googleusercontent.com/a/default-user=s128",
      "userId": "107121563618260277687"
     },
     "user_tz": -540
    },
    "id": "59JE1yQDySx7",
    "outputId": "830e533f-730e-4e8b-a3a4-a88ee8d7ecad"
   },
   "outputs": [
    {
     "name": "stdout",
     "output_type": "stream",
     "text": [
      "10000/10000 [==============================] - 0s 17us/step\n",
      "Test score: 0.32661682465076447\n",
      "Test accuracy: 0.9101\n"
     ]
    }
   ],
   "source": [
    "# evaluate : 전체\n",
    "# 케라스는 pridict 하면 확률을 출력한다.\n",
    "score = model.evaluate(X_test, Y_test, verbose=1)\n",
    "print(\"Test score:\", score[0])\n",
    "print('Test accuracy:', score[1])"
   ]
  },
  {
   "cell_type": "markdown",
   "metadata": {
    "colab_type": "text",
    "id": "UCQk-EQQANOO"
   },
   "source": [
    "##### Save & Load the Model"
   ]
  },
  {
   "cell_type": "code",
   "execution_count": 10,
   "metadata": {
    "colab": {
     "autoexec": {
      "startup": false,
      "wait_interval": 0
     },
     "base_uri": "https://localhost:8080/",
     "height": 35
    },
    "colab_type": "code",
    "executionInfo": {
     "elapsed": 1748,
     "status": "ok",
     "timestamp": 1525099406503,
     "user": {
      "displayName": "­조윤호(빅데이터경영통계전공)",
      "photoUrl": "https://lh3.googleusercontent.com/a/default-user=s128",
      "userId": "107121563618260277687"
     },
     "user_tz": -540
    },
    "id": "EnlOq1ni_fxZ",
    "outputId": "58e130f7-f1b5-4131-9582-4f2ba4fd2897"
   },
   "outputs": [],
   "source": [
    "from keras.models import load_model"
   ]
  },
  {
   "cell_type": "code",
   "execution_count": 12,
   "metadata": {
    "colab": {
     "autoexec": {
      "startup": false,
      "wait_interval": 0
     },
     "base_uri": "https://localhost:8080/",
     "height": 35
    },
    "colab_type": "code",
    "executionInfo": {
     "elapsed": 1748,
     "status": "ok",
     "timestamp": 1525099406503,
     "user": {
      "displayName": "­조윤호(빅데이터경영통계전공)",
      "photoUrl": "https://lh3.googleusercontent.com/a/default-user=s128",
      "userId": "107121563618260277687"
     },
     "user_tz": -540
    },
    "id": "EnlOq1ni_fxZ",
    "outputId": "58e130f7-f1b5-4131-9582-4f2ba4fd2897"
   },
   "outputs": [
    {
     "name": "stdout",
     "output_type": "stream",
     "text": [
      " D 드라이브의 볼륨: 새 볼륨\n",
      " 볼륨 일련 번호: 3AD5-8246\n",
      "\n",
      " D:\\DL_CHRD\\수업 자료\\1일차 디렉터리\n",
      "\n",
      "2019-12-09  오후 02:40    <DIR>          .\n",
      "2019-12-09  오후 02:40    <DIR>          ..\n",
      "2019-12-09  오후 01:41    <DIR>          .ipynb_checkpoints\n",
      "2019-12-09  오후 01:30            16,430 1_Mathematircal_building_blocks.ipynb\n",
      "2019-12-08  오전 06:45            16,598 2_DNN.ipynb\n",
      "2019-12-08  오전 06:45            27,674 3_Improving_Deep_Neural_Network.ipynb\n",
      "2019-12-08  오전 06:45            11,251 4_Intro_CNN.ipynb\n",
      "2019-12-08  오전 06:45            10,371 5_Classic_CNN.ipynb\n",
      "2019-12-08  오전 06:45            20,822 6_CNN_with_small_datasets.ipynb\n",
      "2019-12-08  오전 06:45        27,666,600 cats_and_dogs_small_1.h5\n",
      "2019-12-08  오전 06:45        27,666,600 cats_and_dogs_small_2.h5\n",
      "2019-12-09  오전 09:37    <DIR>          data\n",
      "2019-12-08  오전 07:03            59,040 Ex4-1_CNN_with_MNIST_190406.ipynb\n",
      "2019-12-09  오전 09:37    <DIR>          figures\n",
      "2019-12-09  오후 02:40            80,472 mnist_dnn_01.h5\n",
      "2019-12-09  오후 02:22            72,568 p1_dnn_with_keras.ipynb\n",
      "2019-12-08  오전 06:46        88,940,894 X_test.csv\n",
      "2019-12-08  오전 06:46           228,904 y_train.csv\n",
      "              13개 파일         144,818,224 바이트\n",
      "               5개 디렉터리  437,310,578,688 바이트 남음\n"
     ]
    }
   ],
   "source": [
    "model.save('mnist_dnn_01.h5')\n",
    "%ls"
   ]
  },
  {
   "cell_type": "code",
   "execution_count": 13,
   "metadata": {
    "colab": {
     "autoexec": {
      "startup": false,
      "wait_interval": 0
     },
     "base_uri": "https://localhost:8080/",
     "height": 312
    },
    "colab_type": "code",
    "executionInfo": {
     "elapsed": 1174,
     "status": "ok",
     "timestamp": 1525099305778,
     "user": {
      "displayName": "­조윤호(빅데이터경영통계전공)",
      "photoUrl": "https://lh3.googleusercontent.com/a/default-user=s128",
      "userId": "107121563618260277687"
     },
     "user_tz": -540
    },
    "id": "HbXZvVjR_x94",
    "outputId": "0fdeb090-bbf5-4c94-d3b6-17a0642df74a"
   },
   "outputs": [
    {
     "data": {
      "image/png": "[encoded data removed]",
      "text/plain": [
       "<IPython.core.display.Image object>"
      ]
     },
     "execution_count": 13,
     "metadata": {},
     "output_type": "execute_result"
    }
   ],
   "source": [
    "model2 = load_model('mnist_dnn_01.h5')\n",
    "Image(model_to_dot(model2,show_shapes=True, show_layer_names=False).create(prog='dot', format='png'))"
   ]
  },
  {
   "cell_type": "markdown",
   "metadata": {},
   "source": [
    "<font color = \"#CC3D3D\"><br>\n",
    "## Case #2: Improving the simple net in Keras with hidden layers"
   ]
  },
  {
   "cell_type": "markdown",
   "metadata": {
    "colab_type": "text",
    "id": "PPOWln24ySxl"
   },
   "source": [
    "### Step 2: Define the Model & its Architecture ###"
   ]
  },
  {
   "cell_type": "code",
   "execution_count": 18,
   "metadata": {},
   "outputs": [],
   "source": [
    "del model"
   ]
  },
  {
   "cell_type": "code",
   "execution_count": 19,
   "metadata": {},
   "outputs": [
    {
     "name": "stdout",
     "output_type": "stream",
     "text": [
      "_________________________________________________________________\n",
      "Layer (type)                 Output Shape              Param #   \n",
      "=================================================================\n",
      "dense_6 (Dense)              (None, 32)                25120     \n",
      "_________________________________________________________________\n",
      "activation_5 (Activation)    (None, 32)                0         \n",
      "_________________________________________________________________\n",
      "dense_7 (Dense)              (None, 32)                1056      \n",
      "_________________________________________________________________\n",
      "dense_8 (Dense)              (None, 32)                1056      \n",
      "_________________________________________________________________\n",
      "activation_6 (Activation)    (None, 32)                0         \n",
      "_________________________________________________________________\n",
      "dense_9 (Dense)              (None, 10)                330       \n",
      "_________________________________________________________________\n",
      "activation_7 (Activation)    (None, 10)                0         \n",
      "=================================================================\n",
      "Total params: 27,562\n",
      "Trainable params: 27,562\n",
      "Non-trainable params: 0\n",
      "_________________________________________________________________\n"
     ]
    }
   ],
   "source": [
    "model = Sequential()\n",
    "\n",
    "# 첫번째 층\n",
    "model.add(Dense(32, input_shape=(RESHAPED,)))\n",
    "model.add(Activation('relu')) # 엑티베이션 함수를 relu 함수로 사용\n",
    "\n",
    "# 두변째 층\n",
    "model.add(Dense(32, activation='relu')) # 위의 두줄을 한줄로 표현\n",
    "#model.add(Activation('relu'))\n",
    "\n",
    "# 세번째 층\n",
    "model.add(Dense(32))\n",
    "model.add(Activation('relu'))\n",
    "\n",
    "# 출력층\n",
    "model.add(Dense(10))\n",
    "model.add(Activation('softmax'))\n",
    "\n",
    "model.summary()\n",
    "\n",
    "# 총 weight 수가 27,562개"
   ]
  },
  {
   "cell_type": "code",
   "execution_count": 20,
   "metadata": {},
   "outputs": [
    {
     "data": {
      "image/png": "[encoded data removed]",
      "text/plain": [
       "<IPython.core.display.Image object>"
      ]
     },
     "execution_count": 20,
     "metadata": {},
     "output_type": "execute_result"
    }
   ],
   "source": [
    "Image(model_to_dot(model,show_shapes=True, show_layer_names=False).create(prog='dot', format='png'))"
   ]
  },
  {
   "cell_type": "markdown",
   "metadata": {},
   "source": [
    "### Step 3: Choose the Optimizer and the Cost function"
   ]
  },
  {
   "cell_type": "code",
   "execution_count": 22,
   "metadata": {},
   "outputs": [],
   "source": [
    "model.compile(loss='categorical_crossentropy', optimizer=SGD(), metrics=['accuracy'])\n",
    "# model.compile(loss='categorical_crossentropy', optimizer='Adam', metrics=['accuracy'])"
   ]
  },
  {
   "cell_type": "markdown",
   "metadata": {
    "colab_type": "text",
    "id": "_JWYMMeGySxy"
   },
   "source": [
    "### Step 4: Train the Model"
   ]
  },
  {
   "cell_type": "code",
   "execution_count": 23,
   "metadata": {
    "scrolled": false
   },
   "outputs": [
    {
     "name": "stdout",
     "output_type": "stream",
     "text": [
      "Train on 48000 samples, validate on 12000 samples\n",
      "Epoch 1/30\n",
      "48000/48000 [==============================] - 3s 56us/step - loss: 0.4743 - acc: 0.8573 - val_loss: 0.2152 - val_acc: 0.9368\n",
      "Epoch 2/30\n",
      "48000/48000 [==============================] - 2s 35us/step - loss: 0.2071 - acc: 0.9385 - val_loss: 0.1814 - val_acc: 0.9459\n",
      "Epoch 3/30\n",
      "48000/48000 [==============================] - 2s 35us/step - loss: 0.1647 - acc: 0.9516 - val_loss: 0.1665 - val_acc: 0.9494\n",
      "Epoch 4/30\n",
      "48000/48000 [==============================] - 2s 37us/step - loss: 0.1408 - acc: 0.9583 - val_loss: 0.1456 - val_acc: 0.9575\n",
      "Epoch 5/30\n",
      "48000/48000 [==============================] - 2s 40us/step - loss: 0.1214 - acc: 0.9642 - val_loss: 0.1487 - val_acc: 0.9568\n",
      "Epoch 6/30\n",
      "48000/48000 [==============================] - 2s 40us/step - loss: 0.1080 - acc: 0.9675 - val_loss: 0.1394 - val_acc: 0.9602\n",
      "Epoch 7/30\n",
      "48000/48000 [==============================] - 2s 37us/step - loss: 0.0973 - acc: 0.9709 - val_loss: 0.1357 - val_acc: 0.9587\n",
      "Epoch 8/30\n",
      "48000/48000 [==============================] - 2s 35us/step - loss: 0.0894 - acc: 0.9734 - val_loss: 0.1322 - val_acc: 0.9632\n",
      "Epoch 9/30\n",
      "48000/48000 [==============================] - 2s 36us/step - loss: 0.0804 - acc: 0.9751 - val_loss: 0.1300 - val_acc: 0.9632\n",
      "Epoch 10/30\n",
      "48000/48000 [==============================] - 3s 53us/step - loss: 0.0738 - acc: 0.9771 - val_loss: 0.1316 - val_acc: 0.9627\n",
      "Epoch 11/30\n",
      "48000/48000 [==============================] - 2s 47us/step - loss: 0.0689 - acc: 0.9784 - val_loss: 0.1249 - val_acc: 0.9653\n",
      "Epoch 12/30\n",
      "48000/48000 [==============================] - 2s 47us/step - loss: 0.0623 - acc: 0.9804 - val_loss: 0.1397 - val_acc: 0.9621\n",
      "Epoch 13/30\n",
      "48000/48000 [==============================] - 2s 42us/step - loss: 0.0604 - acc: 0.9812 - val_loss: 0.1257 - val_acc: 0.9659\n",
      "Epoch 14/30\n",
      "48000/48000 [==============================] - 2s 41us/step - loss: 0.0551 - acc: 0.9826 - val_loss: 0.1282 - val_acc: 0.9650\n",
      "Epoch 15/30\n",
      "48000/48000 [==============================] - 2s 42us/step - loss: 0.0503 - acc: 0.9837 - val_loss: 0.1396 - val_acc: 0.9643\n",
      "Epoch 16/30\n",
      "48000/48000 [==============================] - 2s 44us/step - loss: 0.0485 - acc: 0.9843 - val_loss: 0.1356 - val_acc: 0.9643\n",
      "Epoch 17/30\n",
      "48000/48000 [==============================] - 2s 46us/step - loss: 0.0438 - acc: 0.9859 - val_loss: 0.1361 - val_acc: 0.9669\n",
      "Epoch 18/30\n",
      "48000/48000 [==============================] - 2s 37us/step - loss: 0.0421 - acc: 0.9866 - val_loss: 0.1360 - val_acc: 0.9666\n",
      "Epoch 19/30\n",
      "48000/48000 [==============================] - 2s 39us/step - loss: 0.0387 - acc: 0.9874 - val_loss: 0.1452 - val_acc: 0.9656\n",
      "Epoch 20/30\n",
      "48000/48000 [==============================] - 2s 38us/step - loss: 0.0372 - acc: 0.9881 - val_loss: 0.1537 - val_acc: 0.9645\n",
      "Epoch 21/30\n",
      "48000/48000 [==============================] - 2s 38us/step - loss: 0.0331 - acc: 0.9886 - val_loss: 0.1544 - val_acc: 0.9623\n",
      "Epoch 22/30\n",
      "48000/48000 [==============================] - 2s 39us/step - loss: 0.0311 - acc: 0.9900 - val_loss: 0.1569 - val_acc: 0.9648\n",
      "Epoch 23/30\n",
      "48000/48000 [==============================] - 2s 38us/step - loss: 0.0293 - acc: 0.9906 - val_loss: 0.1529 - val_acc: 0.9650\n",
      "Epoch 24/30\n",
      "48000/48000 [==============================] - 2s 37us/step - loss: 0.0280 - acc: 0.9910 - val_loss: 0.1660 - val_acc: 0.9627\n",
      "Epoch 25/30\n",
      "48000/48000 [==============================] - 2s 39us/step - loss: 0.0267 - acc: 0.9906 - val_loss: 0.1703 - val_acc: 0.9631\n",
      "Epoch 26/30\n",
      "48000/48000 [==============================] - 2s 51us/step - loss: 0.0278 - acc: 0.9903 - val_loss: 0.1650 - val_acc: 0.9650\n",
      "Epoch 27/30\n",
      "48000/48000 [==============================] - 2s 37us/step - loss: 0.0238 - acc: 0.9921 - val_loss: 0.1648 - val_acc: 0.9658\n",
      "Epoch 28/30\n",
      "48000/48000 [==============================] - 2s 39us/step - loss: 0.0257 - acc: 0.9919 - val_loss: 0.1622 - val_acc: 0.9667\n",
      "Epoch 29/30\n",
      "48000/48000 [==============================] - 2s 41us/step - loss: 0.0202 - acc: 0.9934 - val_loss: 0.1733 - val_acc: 0.9643\n",
      "Epoch 30/30\n",
      "48000/48000 [==============================] - 2s 41us/step - loss: 0.0256 - acc: 0.9915 - val_loss: 0.1748 - val_acc: 0.9664\n"
     ]
    },
    {
     "data": {
      "image/png": "[encoded data removed]",
      "text/plain": [
       "<Figure size 432x288 with 1 Axes>"
      ]
     },
     "metadata": {
      "needs_background": "light"
     },
     "output_type": "display_data"
    }
   ],
   "source": [
    "history = model.fit(X_train, Y_train, batch_size=64, epochs=30, verbose=1, \n",
    "                    validation_split=0.2)\n",
    "\n",
    "plt.plot(history.history[\"loss\"], label=\"train loss\")\n",
    "plt.plot(history.history[\"val_loss\"], label=\"validation loss\")\n",
    "plt.legend()\n",
    "plt.title(\"Loss\")\n",
    "plt.show()"
   ]
  },
  {
   "cell_type": "markdown",
   "metadata": {
    "colab_type": "text",
    "id": "go4XJWF-ySx5"
   },
   "source": [
    "### Step 5: Evaluate the Model performance"
   ]
  },
  {
   "cell_type": "code",
   "execution_count": 24,
   "metadata": {
    "colab": {
     "autoexec": {
      "startup": false,
      "wait_interval": 0
     },
     "base_uri": "https://localhost:8080/",
     "height": 71
    },
    "colab_type": "code",
    "executionInfo": {
     "elapsed": 1025,
     "status": "ok",
     "timestamp": 1525167075715,
     "user": {
      "displayName": "­조윤호(빅데이터경영통계전공)",
      "photoUrl": "https://lh3.googleusercontent.com/a/default-user=s128",
      "userId": "107121563618260277687"
     },
     "user_tz": -540
    },
    "id": "59JE1yQDySx7",
    "outputId": "830e533f-730e-4e8b-a3a4-a88ee8d7ecad"
   },
   "outputs": [
    {
     "name": "stdout",
     "output_type": "stream",
     "text": [
      "10000/10000 [==============================] - 0s 21us/step\n",
      "Test score: 0.16117311775982526\n",
      "Test accuracy: 0.966\n"
     ]
    }
   ],
   "source": [
    "score = model.evaluate(X_test, Y_test, verbose=1)\n",
    "print(\"Test score:\", score[0])\n",
    "print('Test accuracy:', score[1])\n",
    "\n",
    "model.save('mnist_dnn_02.h5')"
   ]
  },
  {
   "cell_type": "markdown",
   "metadata": {},
   "source": [
    "<font color = \"#CC3D3D\"><br>\n",
    "## Case #3: Further improving the simple net in Keras with dropout"
   ]
  },
  {
   "cell_type": "markdown",
   "metadata": {
    "colab_type": "text",
    "id": "PPOWln24ySxl"
   },
   "source": [
    "### Step 2: Define the Model & its Architecture ###"
   ]
  },
  {
   "cell_type": "code",
   "execution_count": 25,
   "metadata": {},
   "outputs": [
    {
     "name": "stdout",
     "output_type": "stream",
     "text": [
      "WARNING:tensorflow:From D:\\anaconda\\envs\\keras\\lib\\site-packages\\keras\\backend\\tensorflow_backend.py:133: The name tf.placeholder_with_default is deprecated. Please use tf.compat.v1.placeholder_with_default instead.\n",
      "\n",
      "WARNING:tensorflow:From D:\\anaconda\\envs\\keras\\lib\\site-packages\\keras\\backend\\tensorflow_backend.py:3445: calling dropout (from tensorflow.python.ops.nn_ops) with keep_prob is deprecated and will be removed in a future version.\n",
      "Instructions for updating:\n",
      "Please use `rate` instead of `keep_prob`. Rate should be set to `rate = 1 - keep_prob`.\n",
      "_________________________________________________________________\n",
      "Layer (type)                 Output Shape              Param #   \n",
      "=================================================================\n",
      "dense_10 (Dense)             (None, 128)               100480    \n",
      "_________________________________________________________________\n",
      "activation_8 (Activation)    (None, 128)               0         \n",
      "_________________________________________________________________\n",
      "dropout_1 (Dropout)          (None, 128)               0         \n",
      "_________________________________________________________________\n",
      "dense_11 (Dense)             (None, 64)                8256      \n",
      "_________________________________________________________________\n",
      "activation_9 (Activation)    (None, 64)                0         \n",
      "_________________________________________________________________\n",
      "dropout_2 (Dropout)          (None, 64)                0         \n",
      "_________________________________________________________________\n",
      "dense_12 (Dense)             (None, 10)                650       \n",
      "_________________________________________________________________\n",
      "activation_10 (Activation)   (None, 10)                0         \n",
      "=================================================================\n",
      "Total params: 109,386\n",
      "Trainable params: 109,386\n",
      "Non-trainable params: 0\n",
      "_________________________________________________________________\n"
     ]
    }
   ],
   "source": [
    "from keras.layers.core import Dropout\n",
    "\n",
    "# Dropout : 층별로 오버피팅을 줄일 수 있도록 지정할 수 있다.\n",
    "model = Sequential()\n",
    "\n",
    "model.add(Dense(128, input_shape=(RESHAPED,)))\n",
    "model.add(Activation('relu'))\n",
    "model.add(Dropout(0.2)) # Dropout 비율을 20%로 하라\n",
    "\n",
    "model.add(Dense(64))\n",
    "model.add(Activation('relu'))\n",
    "model.add(Dropout(0.2))\n",
    "\n",
    "model.add(Dense(10))\n",
    "model.add(Activation('softmax'))\n",
    "\n",
    "model.summary()"
   ]
  },
  {
   "cell_type": "markdown",
   "metadata": {},
   "source": [
    "### Step 3: Choose the Optimizer and the Cost function"
   ]
  },
  {
   "cell_type": "code",
   "execution_count": 26,
   "metadata": {},
   "outputs": [],
   "source": [
    "model.compile(loss='categorical_crossentropy', optimizer=SGD(), metrics=['accuracy'])"
   ]
  },
  {
   "cell_type": "markdown",
   "metadata": {
    "colab_type": "text",
    "id": "_JWYMMeGySxy"
   },
   "source": [
    "### Step 4: Train the Model"
   ]
  },
  {
   "cell_type": "code",
   "execution_count": 27,
   "metadata": {},
   "outputs": [
    {
     "name": "stdout",
     "output_type": "stream",
     "text": [
      "Train on 48000 samples, validate on 12000 samples\n",
      "Epoch 1/30\n",
      "48000/48000 [==============================] - 2s 47us/step - loss: 1.6184 - acc: 0.5114 - val_loss: 0.8330 - val_acc: 0.8273\n",
      "Epoch 2/30\n",
      "48000/48000 [==============================] - 2s 35us/step - loss: 0.8341 - acc: 0.7494 - val_loss: 0.5037 - val_acc: 0.8757\n",
      "Epoch 3/30\n",
      "48000/48000 [==============================] - 2s 34us/step - loss: 0.6405 - acc: 0.8056 - val_loss: 0.4091 - val_acc: 0.8908\n",
      "Epoch 4/30\n",
      "48000/48000 [==============================] - 2s 39us/step - loss: 0.5494 - acc: 0.8343 - val_loss: 0.3595 - val_acc: 0.9029\n",
      "Epoch 5/30\n",
      "48000/48000 [==============================] - 2s 35us/step - loss: 0.4937 - acc: 0.8534 - val_loss: 0.3286 - val_acc: 0.9084\n",
      "Epoch 6/30\n",
      "48000/48000 [==============================] - 2s 42us/step - loss: 0.4627 - acc: 0.8628 - val_loss: 0.3076 - val_acc: 0.9146\n",
      "Epoch 7/30\n",
      "48000/48000 [==============================] - 2s 33us/step - loss: 0.4317 - acc: 0.8729 - val_loss: 0.2893 - val_acc: 0.9183\n",
      "Epoch 8/30\n",
      "48000/48000 [==============================] - 2s 35us/step - loss: 0.4101 - acc: 0.8791 - val_loss: 0.2759 - val_acc: 0.9217\n",
      "Epoch 9/30\n",
      "48000/48000 [==============================] - 2s 36us/step - loss: 0.3861 - acc: 0.8869 - val_loss: 0.2644 - val_acc: 0.9245\n",
      "Epoch 10/30\n",
      "48000/48000 [==============================] - 1s 30us/step - loss: 0.3727 - acc: 0.8911 - val_loss: 0.2524 - val_acc: 0.9280\n",
      "Epoch 11/30\n",
      "48000/48000 [==============================] - 2s 32us/step - loss: 0.3563 - acc: 0.8956 - val_loss: 0.2443 - val_acc: 0.9302\n",
      "Epoch 12/30\n",
      "48000/48000 [==============================] - 2s 33us/step - loss: 0.3431 - acc: 0.8996 - val_loss: 0.2360 - val_acc: 0.9321\n",
      "Epoch 13/30\n",
      "48000/48000 [==============================] - 2s 32us/step - loss: 0.3328 - acc: 0.9031 - val_loss: 0.2289 - val_acc: 0.9337\n",
      "Epoch 14/30\n",
      "48000/48000 [==============================] - 2s 38us/step - loss: 0.3217 - acc: 0.9052 - val_loss: 0.2216 - val_acc: 0.9352\n",
      "Epoch 15/30\n",
      "48000/48000 [==============================] - 1s 31us/step - loss: 0.3115 - acc: 0.9097 - val_loss: 0.2156 - val_acc: 0.9368\n",
      "Epoch 16/30\n",
      "48000/48000 [==============================] - 2s 47us/step - loss: 0.3039 - acc: 0.9105 - val_loss: 0.2091 - val_acc: 0.9393\n",
      "Epoch 17/30\n",
      "48000/48000 [==============================] - 2s 33us/step - loss: 0.2958 - acc: 0.9141 - val_loss: 0.2039 - val_acc: 0.9399\n",
      "Epoch 18/30\n",
      "48000/48000 [==============================] - 2s 33us/step - loss: 0.2882 - acc: 0.9156 - val_loss: 0.1990 - val_acc: 0.9419\n",
      "Epoch 19/30\n",
      "48000/48000 [==============================] - 2s 33us/step - loss: 0.2785 - acc: 0.9176 - val_loss: 0.1932 - val_acc: 0.9443\n",
      "Epoch 20/30\n",
      "48000/48000 [==============================] - 2s 33us/step - loss: 0.2712 - acc: 0.9211 - val_loss: 0.1894 - val_acc: 0.9456\n",
      "Epoch 21/30\n",
      "48000/48000 [==============================] - 2s 33us/step - loss: 0.2660 - acc: 0.9234 - val_loss: 0.1851 - val_acc: 0.9463\n",
      "Epoch 22/30\n",
      "48000/48000 [==============================] - 1s 30us/step - loss: 0.2577 - acc: 0.9246 - val_loss: 0.1809 - val_acc: 0.9483\n",
      "Epoch 23/30\n",
      "48000/48000 [==============================] - 2s 34us/step - loss: 0.2554 - acc: 0.9256 - val_loss: 0.1767 - val_acc: 0.9492\n",
      "Epoch 24/30\n",
      "48000/48000 [==============================] - 2s 39us/step - loss: 0.2485 - acc: 0.9275 - val_loss: 0.1730 - val_acc: 0.9506\n",
      "Epoch 25/30\n",
      "48000/48000 [==============================] - 2s 33us/step - loss: 0.2425 - acc: 0.9290 - val_loss: 0.1694 - val_acc: 0.9519\n",
      "Epoch 26/30\n",
      "48000/48000 [==============================] - 2s 31us/step - loss: 0.2409 - acc: 0.9299 - val_loss: 0.1663 - val_acc: 0.9525\n",
      "Epoch 27/30\n",
      "48000/48000 [==============================] - 2s 33us/step - loss: 0.2345 - acc: 0.9316 - val_loss: 0.1634 - val_acc: 0.9540\n",
      "Epoch 28/30\n",
      "48000/48000 [==============================] - 2s 36us/step - loss: 0.2317 - acc: 0.9320 - val_loss: 0.1603 - val_acc: 0.9536\n",
      "Epoch 29/30\n",
      "48000/48000 [==============================] - 2s 43us/step - loss: 0.2262 - acc: 0.9330 - val_loss: 0.1571 - val_acc: 0.9560\n",
      "Epoch 30/30\n",
      "48000/48000 [==============================] - 2s 42us/step - loss: 0.2196 - acc: 0.9359 - val_loss: 0.1558 - val_acc: 0.9558\n"
     ]
    },
    {
     "data": {
      "image/png": "[encoded data removed]",
      "text/plain": [
       "<Figure size 432x288 with 1 Axes>"
      ]
     },
     "metadata": {
      "needs_background": "light"
     },
     "output_type": "display_data"
    }
   ],
   "source": [
    "history = model.fit(X_train, Y_train, batch_size=128, epochs=30, verbose=1, \n",
    "                    validation_split=0.2)\n",
    "\n",
    "plt.plot(history.history[\"loss\"], label=\"train loss\")\n",
    "plt.plot(history.history[\"val_loss\"], label=\"validation loss\")\n",
    "plt.legend()\n",
    "plt.title(\"Loss\")\n",
    "plt.show()"
   ]
  },
  {
   "cell_type": "markdown",
   "metadata": {
    "colab_type": "text",
    "id": "go4XJWF-ySx5"
   },
   "source": [
    "### Step 5: Evaluate the Model performance"
   ]
  },
  {
   "cell_type": "code",
   "execution_count": 28,
   "metadata": {},
   "outputs": [
    {
     "name": "stdout",
     "output_type": "stream",
     "text": [
      "10000/10000 [==============================] - 0s 27us/step\n",
      "Test score: 0.15925931633636356\n",
      "Test accuracy: 0.9533\n"
     ]
    }
   ],
   "source": [
    "score = model.evaluate(X_test, Y_test, verbose=1)\n",
    "print(\"Test score:\", score[0])\n",
    "print('Test accuracy:', score[1])\n",
    "\n",
    "model.save('mnist_dnn_03.h5')"
   ]
  },
  {
   "cell_type": "markdown",
   "metadata": {},
   "source": [
    "<font color = \"#CC3D3D\"><br>\n",
    "## Case #4: Testing different optimizers in Keras "
   ]
  },
  {
   "cell_type": "markdown",
   "metadata": {
    "colab_type": "text",
    "id": "PPOWln24ySxl"
   },
   "source": [
    "### Step 2: Define the Model & its Architecture ###"
   ]
  },
  {
   "cell_type": "code",
   "execution_count": 29,
   "metadata": {},
   "outputs": [
    {
     "name": "stdout",
     "output_type": "stream",
     "text": [
      "_________________________________________________________________\n",
      "Layer (type)                 Output Shape              Param #   \n",
      "=================================================================\n",
      "dense_13 (Dense)             (None, 128)               100480    \n",
      "_________________________________________________________________\n",
      "activation_11 (Activation)   (None, 128)               0         \n",
      "_________________________________________________________________\n",
      "dropout_3 (Dropout)          (None, 128)               0         \n",
      "_________________________________________________________________\n",
      "dense_14 (Dense)             (None, 64)                8256      \n",
      "_________________________________________________________________\n",
      "activation_12 (Activation)   (None, 64)                0         \n",
      "_________________________________________________________________\n",
      "dropout_4 (Dropout)          (None, 64)                0         \n",
      "_________________________________________________________________\n",
      "dense_15 (Dense)             (None, 10)                650       \n",
      "_________________________________________________________________\n",
      "activation_13 (Activation)   (None, 10)                0         \n",
      "=================================================================\n",
      "Total params: 109,386\n",
      "Trainable params: 109,386\n",
      "Non-trainable params: 0\n",
      "_________________________________________________________________\n"
     ]
    }
   ],
   "source": [
    "model = Sequential()\n",
    "model.add(Dense(128, input_shape=(RESHAPED,)))\n",
    "model.add(Activation('relu'))\n",
    "model.add(Dropout(0.2))\n",
    "model.add(Dense(64))\n",
    "model.add(Activation('relu'))\n",
    "model.add(Dropout(0.2))\n",
    "model.add(Dense(10))\n",
    "model.add(Activation('softmax'))\n",
    "model.summary()"
   ]
  },
  {
   "cell_type": "markdown",
   "metadata": {},
   "source": [
    "### Step 3: Choose the Optimizer and the Cost function"
   ]
  },
  {
   "cell_type": "code",
   "execution_count": 30,
   "metadata": {},
   "outputs": [],
   "source": [
    "from keras.optimizers import Adam\n",
    "\n",
    "model.compile(loss='categorical_crossentropy', optimizer=Adam(), metrics=['accuracy'])"
   ]
  },
  {
   "cell_type": "markdown",
   "metadata": {
    "colab_type": "text",
    "id": "_JWYMMeGySxy"
   },
   "source": [
    "### Step 4: Train the Model"
   ]
  },
  {
   "cell_type": "code",
   "execution_count": 31,
   "metadata": {},
   "outputs": [
    {
     "name": "stdout",
     "output_type": "stream",
     "text": [
      "Train on 48000 samples, validate on 12000 samples\n",
      "Epoch 1/30\n",
      "48000/48000 [==============================] - 4s 79us/step - loss: 0.4222 - acc: 0.8716 - val_loss: 0.1572 - val_acc: 0.9551\n",
      "Epoch 2/30\n",
      "48000/48000 [==============================] - 3s 59us/step - loss: 0.1881 - acc: 0.9441 - val_loss: 0.1183 - val_acc: 0.9655\n",
      "Epoch 3/30\n",
      "48000/48000 [==============================] - 3s 56us/step - loss: 0.1463 - acc: 0.9565 - val_loss: 0.1142 - val_acc: 0.9645\n",
      "Epoch 4/30\n",
      "48000/48000 [==============================] - 3s 57us/step - loss: 0.1191 - acc: 0.9637 - val_loss: 0.0952 - val_acc: 0.9704\n",
      "Epoch 5/30\n",
      "48000/48000 [==============================] - 3s 58us/step - loss: 0.1038 - acc: 0.9685 - val_loss: 0.0898 - val_acc: 0.9748\n",
      "Epoch 6/30\n",
      "48000/48000 [==============================] - 3s 61us/step - loss: 0.0889 - acc: 0.9729 - val_loss: 0.0902 - val_acc: 0.9746\n",
      "Epoch 7/30\n",
      "48000/48000 [==============================] - 3s 62us/step - loss: 0.0816 - acc: 0.9748 - val_loss: 0.0924 - val_acc: 0.9736\n",
      "Epoch 8/30\n",
      "48000/48000 [==============================] - 3s 59us/step - loss: 0.0744 - acc: 0.9764 - val_loss: 0.0832 - val_acc: 0.9764\n",
      "Epoch 9/30\n",
      "48000/48000 [==============================] - 3s 58us/step - loss: 0.0670 - acc: 0.9787 - val_loss: 0.0892 - val_acc: 0.9754\n",
      "Epoch 10/30\n",
      "48000/48000 [==============================] - 3s 57us/step - loss: 0.0649 - acc: 0.9794 - val_loss: 0.0845 - val_acc: 0.9760\n",
      "Epoch 11/30\n",
      "48000/48000 [==============================] - 3s 58us/step - loss: 0.0584 - acc: 0.9813 - val_loss: 0.0865 - val_acc: 0.9761\n",
      "Epoch 12/30\n",
      "48000/48000 [==============================] - 3s 59us/step - loss: 0.0573 - acc: 0.9817 - val_loss: 0.0852 - val_acc: 0.9772\n",
      "Epoch 13/30\n",
      "48000/48000 [==============================] - 3s 62us/step - loss: 0.0530 - acc: 0.9830 - val_loss: 0.0941 - val_acc: 0.9770\n",
      "Epoch 14/30\n",
      "48000/48000 [==============================] - 3s 57us/step - loss: 0.0501 - acc: 0.9838 - val_loss: 0.0882 - val_acc: 0.9776\n",
      "Epoch 15/30\n",
      "48000/48000 [==============================] - 3s 58us/step - loss: 0.0495 - acc: 0.9837 - val_loss: 0.0849 - val_acc: 0.9782\n",
      "Epoch 16/30\n",
      "48000/48000 [==============================] - 3s 60us/step - loss: 0.0465 - acc: 0.9849 - val_loss: 0.0957 - val_acc: 0.9764\n",
      "Epoch 17/30\n",
      "48000/48000 [==============================] - 3s 59us/step - loss: 0.0435 - acc: 0.9851 - val_loss: 0.0867 - val_acc: 0.9774\n",
      "Epoch 18/30\n",
      "48000/48000 [==============================] - 3s 65us/step - loss: 0.0417 - acc: 0.9864 - val_loss: 0.0955 - val_acc: 0.9778\n",
      "Epoch 19/30\n",
      "48000/48000 [==============================] - 3s 61us/step - loss: 0.0402 - acc: 0.9871 - val_loss: 0.0948 - val_acc: 0.9764\n",
      "Epoch 20/30\n",
      "48000/48000 [==============================] - 3s 59us/step - loss: 0.0381 - acc: 0.9879 - val_loss: 0.0855 - val_acc: 0.9788\n",
      "Epoch 21/30\n",
      "48000/48000 [==============================] - 3s 60us/step - loss: 0.0387 - acc: 0.9872 - val_loss: 0.0900 - val_acc: 0.9780\n",
      "Epoch 22/30\n",
      "48000/48000 [==============================] - 3s 60us/step - loss: 0.0380 - acc: 0.9874 - val_loss: 0.0872 - val_acc: 0.9784\n",
      "Epoch 23/30\n",
      "48000/48000 [==============================] - 3s 59us/step - loss: 0.0367 - acc: 0.9879 - val_loss: 0.0872 - val_acc: 0.9782\n",
      "Epoch 24/30\n",
      "48000/48000 [==============================] - 3s 60us/step - loss: 0.0338 - acc: 0.9892 - val_loss: 0.0900 - val_acc: 0.9786\n",
      "Epoch 25/30\n",
      "48000/48000 [==============================] - 3s 59us/step - loss: 0.0340 - acc: 0.9880 - val_loss: 0.0935 - val_acc: 0.9792\n",
      "Epoch 26/30\n",
      "48000/48000 [==============================] - 3s 60us/step - loss: 0.0316 - acc: 0.9897 - val_loss: 0.0948 - val_acc: 0.9778\n",
      "Epoch 27/30\n",
      "48000/48000 [==============================] - 3s 58us/step - loss: 0.0323 - acc: 0.9888 - val_loss: 0.0912 - val_acc: 0.9788\n",
      "Epoch 28/30\n",
      "48000/48000 [==============================] - 3s 66us/step - loss: 0.0297 - acc: 0.9904 - val_loss: 0.0937 - val_acc: 0.9776\n",
      "Epoch 29/30\n",
      "48000/48000 [==============================] - 3s 65us/step - loss: 0.0322 - acc: 0.9892 - val_loss: 0.0909 - val_acc: 0.9790\n",
      "Epoch 30/30\n",
      "48000/48000 [==============================] - 3s 60us/step - loss: 0.0306 - acc: 0.9894 - val_loss: 0.0957 - val_acc: 0.9792\n"
     ]
    },
    {
     "data": {
      "image/png": "[encoded data removed]",
      "text/plain": [
       "<Figure size 432x288 with 1 Axes>"
      ]
     },
     "metadata": {
      "needs_background": "light"
     },
     "output_type": "display_data"
    }
   ],
   "source": [
    "history = model.fit(X_train, Y_train, batch_size=64, epochs=30, verbose=1, \n",
    "                    validation_split=0.2)\n",
    "\n",
    "plt.plot(history.history[\"loss\"], label=\"train loss\")\n",
    "plt.plot(history.history[\"val_loss\"], label=\"validation loss\")\n",
    "plt.legend()\n",
    "plt.title(\"Loss\")\n",
    "plt.show()"
   ]
  },
  {
   "cell_type": "markdown",
   "metadata": {
    "colab_type": "text",
    "id": "go4XJWF-ySx5"
   },
   "source": [
    "### Step 5: Evaluate the Model performance"
   ]
  },
  {
   "cell_type": "code",
   "execution_count": 32,
   "metadata": {},
   "outputs": [
    {
     "name": "stdout",
     "output_type": "stream",
     "text": [
      "10000/10000 [==============================] - 0s 24us/step\n",
      "Test score: 0.0821514577267435\n",
      "Test accuracy: 0.98\n"
     ]
    }
   ],
   "source": [
    "score = model.evaluate(X_test, Y_test, verbose=1)\n",
    "print(\"Test score:\", score[0])\n",
    "print('Test accuracy:', score[1])\n",
    "\n",
    "model.save('mnist_dnn_04.h5')"
   ]
  },
  {
   "cell_type": "markdown",
   "metadata": {},
   "source": [
    "<font color = \"#CC3D3D\"><br>\n",
    "## Case #5: Adopting regularization for avoiding overfitting\n",
    "<br><img src=\"https://i.stack.imgur.com/j2F6j.png\" width=600 height=400>"
   ]
  },
  {
   "cell_type": "markdown",
   "metadata": {},
   "source": [
    "### Step 2: Define the Model & its Architecture"
   ]
  },
  {
   "cell_type": "code",
   "execution_count": 33,
   "metadata": {},
   "outputs": [
    {
     "name": "stdout",
     "output_type": "stream",
     "text": [
      "WARNING:tensorflow:From D:\\anaconda\\envs\\keras\\lib\\site-packages\\keras\\backend\\tensorflow_backend.py:4185: The name tf.truncated_normal is deprecated. Please use tf.random.truncated_normal instead.\n",
      "\n",
      "_________________________________________________________________\n",
      "Layer (type)                 Output Shape              Param #   \n",
      "=================================================================\n",
      "dense_16 (Dense)             (None, 128)               100480    \n",
      "_________________________________________________________________\n",
      "batch_normalization_1 (Batch (None, 128)               512       \n",
      "_________________________________________________________________\n",
      "activation_14 (Activation)   (None, 128)               0         \n",
      "_________________________________________________________________\n",
      "dropout_5 (Dropout)          (None, 128)               0         \n",
      "_________________________________________________________________\n",
      "dense_17 (Dense)             (None, 64)                8256      \n",
      "_________________________________________________________________\n",
      "batch_normalization_2 (Batch (None, 64)                256       \n",
      "_________________________________________________________________\n",
      "activation_15 (Activation)   (None, 64)                0         \n",
      "_________________________________________________________________\n",
      "dropout_6 (Dropout)          (None, 64)                0         \n",
      "_________________________________________________________________\n",
      "dense_18 (Dense)             (None, 10)                650       \n",
      "_________________________________________________________________\n",
      "activation_16 (Activation)   (None, 10)                0         \n",
      "=================================================================\n",
      "Total params: 110,154\n",
      "Trainable params: 109,770\n",
      "Non-trainable params: 384\n",
      "_________________________________________________________________\n"
     ]
    }
   ],
   "source": [
    "# 오버피팅을 줄이는 방법\n",
    "from keras import regularizers\n",
    "\n",
    "# Max norm constraints: \n",
    "# refer to http://cs231n.github.io/neural-networks-2/#reg\n",
    "from keras.constraints import max_norm\n",
    "\n",
    "# Batch normalization layer normalizes the activations of the previous layer at each batch,\n",
    "# i.e. applies a transformation that maintains the mean activation close to 0 \n",
    "# and the activation standard deviation close to 1.\n",
    "from keras.layers import BatchNormalization\n",
    "\n",
    "model = Sequential()\n",
    "#model.add(Dense(128, input_shape=(RESHAPED,), kernel_regularizer=regularizers.l2(0.01), kernel_initializer=\"glorot_normal\"))\n",
    "model.add(Dense(128, input_shape=(RESHAPED,), kernel_constraint=max_norm(2.), kernel_initializer=\"he_normal\"))\n",
    "model.add(BatchNormalization())\n",
    "model.add(Activation('relu'))\n",
    "model.add(Dropout(0.2))\n",
    "#model.add(Dense(64, kernel_regularizer=regularizers.l2(0.01), kernel_initializer=\"glorot_normal\"))\n",
    "model.add(Dense(64, kernel_constraint=max_norm(2.), kernel_initializer=\"he_normal\"))\n",
    "model.add(BatchNormalization())\n",
    "model.add(Activation('relu'))\n",
    "model.add(Dropout(0.2))\n",
    "model.add(Dense(10))\n",
    "model.add(Activation('softmax'))\n",
    "model.summary()"
   ]
  },
  {
   "cell_type": "markdown",
   "metadata": {},
   "source": [
    "### Step 3: Choose the Optimizer and the Cost function"
   ]
  },
  {
   "cell_type": "code",
   "execution_count": 34,
   "metadata": {},
   "outputs": [],
   "source": [
    "model.compile(loss='categorical_crossentropy', optimizer=Adam(), metrics=['accuracy'])"
   ]
  },
  {
   "cell_type": "markdown",
   "metadata": {},
   "source": [
    "### Step 4: Train the Model"
   ]
  },
  {
   "cell_type": "code",
   "execution_count": 35,
   "metadata": {},
   "outputs": [
    {
     "name": "stdout",
     "output_type": "stream",
     "text": [
      "Train on 48000 samples, validate on 12000 samples\n",
      "Epoch 1/30\n",
      "48000/48000 [==============================] - 4s 89us/step - loss: 0.4869 - acc: 0.8626 - val_loss: 0.1890 - val_acc: 0.9456\n",
      "Epoch 2/30\n",
      "48000/48000 [==============================] - 3s 56us/step - loss: 0.2181 - acc: 0.9365 - val_loss: 0.1300 - val_acc: 0.9608\n",
      "Epoch 3/30\n",
      "48000/48000 [==============================] - 3s 54us/step - loss: 0.1698 - acc: 0.9489 - val_loss: 0.1177 - val_acc: 0.9657\n",
      "Epoch 4/30\n",
      "48000/48000 [==============================] - 2s 47us/step - loss: 0.1365 - acc: 0.9584 - val_loss: 0.0996 - val_acc: 0.9713\n",
      "Epoch 5/30\n",
      "48000/48000 [==============================] - 2s 48us/step - loss: 0.1216 - acc: 0.9629 - val_loss: 0.0891 - val_acc: 0.9736\n",
      "Epoch 6/30\n",
      "48000/48000 [==============================] - 3s 55us/step - loss: 0.1058 - acc: 0.9671 - val_loss: 0.0873 - val_acc: 0.9744\n",
      "Epoch 7/30\n",
      "48000/48000 [==============================] - 3s 52us/step - loss: 0.1009 - acc: 0.9682 - val_loss: 0.0844 - val_acc: 0.9754\n",
      "Epoch 8/30\n",
      "48000/48000 [==============================] - 2s 48us/step - loss: 0.0873 - acc: 0.9723 - val_loss: 0.0799 - val_acc: 0.9772\n",
      "Epoch 9/30\n",
      "48000/48000 [==============================] - 2s 48us/step - loss: 0.0812 - acc: 0.9744 - val_loss: 0.0770 - val_acc: 0.9774\n",
      "Epoch 10/30\n",
      "48000/48000 [==============================] - 2s 48us/step - loss: 0.0777 - acc: 0.9748 - val_loss: 0.0833 - val_acc: 0.9750\n",
      "Epoch 11/30\n",
      "48000/48000 [==============================] - 2s 48us/step - loss: 0.0720 - acc: 0.9771 - val_loss: 0.0805 - val_acc: 0.9763\n",
      "Epoch 12/30\n",
      "48000/48000 [==============================] - 2s 49us/step - loss: 0.0697 - acc: 0.9773 - val_loss: 0.0728 - val_acc: 0.9792\n",
      "Epoch 13/30\n",
      "48000/48000 [==============================] - 3s 61us/step - loss: 0.0667 - acc: 0.9789 - val_loss: 0.0810 - val_acc: 0.9776\n",
      "Epoch 14/30\n",
      "48000/48000 [==============================] - 3s 57us/step - loss: 0.0623 - acc: 0.9797 - val_loss: 0.0776 - val_acc: 0.9791\n",
      "Epoch 15/30\n",
      "48000/48000 [==============================] - 3s 54us/step - loss: 0.0609 - acc: 0.9801 - val_loss: 0.0747 - val_acc: 0.9781\n"
     ]
    },
    {
     "data": {
      "image/png": "[encoded data removed]",
      "text/plain": [
       "<Figure size 432x288 with 1 Axes>"
      ]
     },
     "metadata": {
      "needs_background": "light"
     },
     "output_type": "display_data"
    }
   ],
   "source": [
    "# Early stopping is basically stopping the training once your loss starts to increase.\n",
    "# 학습 조기 종료를 위해 더 이상 개선의 여지가 없을 때 학습을 종료시키는 콜백함수\n",
    "from keras.callbacks import EarlyStopping\n",
    "early_stop = EarlyStopping(patience=3)\n",
    "# patience : 개선이 없다고 바로 종료하지 않고 개선이 없는 에포크를 얼마나 기다려 \n",
    "#           줄 것인 가를 지정합니다. \n",
    "# 만약 10이라고 지정하면 개선이 없는 에포크가 10번째 지속될 경우 학습을 종료합니다.\n",
    "\n",
    "history = model.fit(X_train, Y_train, batch_size=128, epochs=30, verbose=1, \n",
    "                    validation_split=0.2, callbacks=[early_stop])\n",
    "\n",
    "plt.plot(history.history[\"loss\"], label=\"train loss\")\n",
    "plt.plot(history.history[\"val_loss\"], label=\"validation loss\")\n",
    "plt.legend()\n",
    "plt.title(\"Loss\")\n",
    "plt.show()"
   ]
  },
  {
   "cell_type": "markdown",
   "metadata": {},
   "source": [
    "### Step 5: Evaluate the Model performance"
   ]
  },
  {
   "cell_type": "code",
   "execution_count": 36,
   "metadata": {},
   "outputs": [
    {
     "name": "stdout",
     "output_type": "stream",
     "text": [
      "10000/10000 [==============================] - 0s 32us/step\n",
      "Test score: 0.06935301205611905\n",
      "Test accuracy: 0.9791\n"
     ]
    }
   ],
   "source": [
    "score = model.evaluate(X_test, Y_test, verbose=1)\n",
    "print(\"Test score:\", score[0])\n",
    "print('Test accuracy:', score[1])\n",
    "\n",
    "model.save('mnist_dnn_05.h5')"
   ]
  },
  {
   "cell_type": "markdown",
   "metadata": {},
   "source": [
    "<font color = \"#CC3D3D\"><br>\n",
    "## Case #6: Optimizing hyperparameters with Keras-scikit-wrapper"
   ]
  },
  {
   "cell_type": "markdown",
   "metadata": {},
   "source": [
    "##### 1) Define a function which constructs, compiles and returns a Keras model"
   ]
  },
  {
   "cell_type": "code",
   "execution_count": 37,
   "metadata": {},
   "outputs": [],
   "source": [
    "def dnn_model(optimizer=Adam(), dropout_rate=0.0):\n",
    "    # Define the model & its architecture    \n",
    "    model = Sequential()\n",
    "    model.add(Dense(128, input_shape=(RESHAPED,), activation='relu'))\n",
    "    model.add(Dropout(dropout_rate))\n",
    "    model.add(Dense(64, activation='relu'))\n",
    "    model.add(Dropout(dropout_rate))\n",
    "    model.add(Dense(10, activation='softmax'))\n",
    "    # Choose the optimizer and the cost function\n",
    "    model.compile(loss='categorical_crossentropy', optimizer=optimizer, metrics=['accuracy'])\n",
    "    # Return model           \n",
    "    return model"
   ]
  },
  {
   "cell_type": "markdown",
   "metadata": {},
   "source": [
    "##### 2) Instantiate `KerasClassifier` which implements the Scikit-Learn classifier interface"
   ]
  },
  {
   "cell_type": "code",
   "execution_count": 38,
   "metadata": {},
   "outputs": [],
   "source": [
    "from keras.wrappers.scikit_learn import KerasClassifier\n",
    "# call Keras scikit wrapper\n",
    "dnn = KerasClassifier(build_fn=dnn_model, epochs=1)"
   ]
  },
  {
   "cell_type": "markdown",
   "metadata": {},
   "source": [
    "##### 3) Apply scikit-learn's `RandomizedSearchCV` (or `GridSearchCV`)"
   ]
  },
  {
   "cell_type": "markdown",
   "metadata": {},
   "source": [
    "#### RandomizedSearchCV URL\n",
    "https://scikit-learn.org/stable/modules/generated/sklearn.model_selection.RandomizedSearchCV.html"
   ]
  },
  {
   "cell_type": "code",
   "execution_count": 44,
   "metadata": {},
   "outputs": [
    {
     "data": {
      "text/plain": [
       "{'mean_fit_time': array([5.65121841, 3.70875589, 2.82377124, 3.54651729, 5.91983374]),\n",
       " 'std_fit_time': array([0.08511652, 0.48246824, 0.04867888, 0.16131813, 0.73205973]),\n",
       " 'mean_score_time': array([0.72738894, 0.5857656 , 0.55583795, 0.61569293, 0.93485077]),\n",
       " 'std_score_time': array([0.02664119, 0.04349205, 0.01669627, 0.03049535, 0.07899962]),\n",
       " 'param_optimizer': masked_array(data=['adam', 'rmsprop', 'rmsprop', 'adam', 'adam'],\n",
       "              mask=[False, False, False, False, False],\n",
       "        fill_value='?',\n",
       "             dtype=object),\n",
       " 'param_dropout_rate': masked_array(data=[0.5, 0.5, 0.0, 0.0, 0.0],\n",
       "              mask=[False, False, False, False, False],\n",
       "        fill_value='?',\n",
       "             dtype=object),\n",
       " 'param_batch_size': masked_array(data=[32, 64, 64, 64, 32],\n",
       "              mask=[False, False, False, False, False],\n",
       "        fill_value='?',\n",
       "             dtype=object),\n",
       " 'params': [{'optimizer': 'adam', 'dropout_rate': 0.5, 'batch_size': 32},\n",
       "  {'optimizer': 'rmsprop', 'dropout_rate': 0.5, 'batch_size': 64},\n",
       "  {'optimizer': 'rmsprop', 'dropout_rate': 0.0, 'batch_size': 64},\n",
       "  {'optimizer': 'adam', 'dropout_rate': 0.0, 'batch_size': 64},\n",
       "  {'optimizer': 'adam', 'dropout_rate': 0.0, 'batch_size': 32}],\n",
       " 'split0_test_score': array([0.931  , 0.9203 , 0.9347 , 0.9437 , 0.94935]),\n",
       " 'split1_test_score': array([0.92735, 0.9206 , 0.92595, 0.94325, 0.95195]),\n",
       " 'split2_test_score': array([0.9317 , 0.9225 , 0.92595, 0.9501 , 0.95   ]),\n",
       " 'mean_test_score': array([0.93001667, 0.92113333, 0.92886667, 0.94568333, 0.95043333]),\n",
       " 'std_test_score': array([0.00190715, 0.00097411, 0.00412479, 0.00312845, 0.00110479]),\n",
       " 'rank_test_score': array([3, 5, 4, 2, 1])}"
      ]
     },
     "execution_count": 44,
     "metadata": {},
     "output_type": "execute_result"
    }
   ],
   "source": [
    "random_search.cv_results_"
   ]
  },
  {
   "cell_type": "code",
   "execution_count": 39,
   "metadata": {},
   "outputs": [
    {
     "name": "stdout",
     "output_type": "stream",
     "text": [
      "Epoch 1/1\n",
      "40000/40000 [==============================] - 5s 123us/step - loss: 0.6643 - acc: 0.7960\n",
      "20000/20000 [==============================] - 1s 38us/step\n",
      "Epoch 1/1\n",
      "40000/40000 [==============================] - 5s 131us/step - loss: 0.6681 - acc: 0.7925\n",
      "20000/20000 [==============================] - 1s 36us/step\n",
      "Epoch 1/1\n",
      "40000/40000 [==============================] - 5s 129us/step - loss: 0.6859 - acc: 0.7899\n",
      "20000/20000 [==============================] - 1s 35us/step\n",
      "Epoch 1/1\n",
      "40000/40000 [==============================] - 3s 69us/step - loss: 0.7469 - acc: 0.7677\n",
      "20000/20000 [==============================] - 1s 28us/step\n",
      "Epoch 1/1\n",
      "40000/40000 [==============================] - 4s 97us/step - loss: 0.7490 - acc: 0.7648\n",
      "20000/20000 [==============================] - 1s 28us/step\n",
      "Epoch 1/1\n",
      "40000/40000 [==============================] - 3s 78us/step - loss: 0.7614 - acc: 0.7574\n",
      "20000/20000 [==============================] - 1s 32us/step\n",
      "Epoch 1/1\n",
      "40000/40000 [==============================] - 2s 60us/step - loss: 0.3563 - acc: 0.8959\n",
      "20000/20000 [==============================] - 1s 27us/step\n",
      "Epoch 1/1\n",
      "40000/40000 [==============================] - 3s 63us/step - loss: 0.3389 - acc: 0.9037\n",
      "20000/20000 [==============================] - 1s 28us/step\n",
      "Epoch 1/1\n",
      "40000/40000 [==============================] - 2s 62us/step - loss: 0.3449 - acc: 0.9014\n",
      "20000/20000 [==============================] - 1s 29us/step\n",
      "Epoch 1/1\n",
      "40000/40000 [==============================] - 3s 76us/step - loss: 0.3363 - acc: 0.9056\n",
      "20000/20000 [==============================] - 1s 32us/step\n",
      "Epoch 1/1\n",
      "40000/40000 [==============================] - 3s 75us/step - loss: 0.3305 - acc: 0.9065\n",
      "20000/20000 [==============================] - 1s 29us/step\n",
      "Epoch 1/1\n",
      "40000/40000 [==============================] - 3s 84us/step - loss: 0.3350 - acc: 0.9040\n",
      "20000/20000 [==============================] - 1s 31us/step\n",
      "Epoch 1/1\n",
      "40000/40000 [==============================] - 5s 115us/step - loss: 0.2962 - acc: 0.9135\n",
      "20000/20000 [==============================] - 1s 43us/step\n",
      "Epoch 1/1\n",
      "40000/40000 [==============================] - 5s 132us/step - loss: 0.2885 - acc: 0.9152\n",
      "20000/20000 [==============================] - 1s 45us/step\n",
      "Epoch 1/1\n",
      "40000/40000 [==============================] - 6s 161us/step - loss: 0.2919 - acc: 0.9159\n",
      "20000/20000 [==============================] - 1s 52us/step\n",
      "Epoch 1/1\n",
      "60000/60000 [==============================] - 7s 121us/step - loss: 0.2409 - acc: 0.9286\n",
      "10000/10000 [==============================] - 1s 66us/step\n",
      "0.9619\n",
      "Best: 0.950433 using {'optimizer': 'adam', 'dropout_rate': 0.0, 'batch_size': 32}\n",
      "0.930017 (0.001907) with: {'optimizer': 'adam', 'dropout_rate': 0.5, 'batch_size': 32}\n",
      "0.921133 (0.000974) with: {'optimizer': 'rmsprop', 'dropout_rate': 0.5, 'batch_size': 64}\n",
      "0.928867 (0.004125) with: {'optimizer': 'rmsprop', 'dropout_rate': 0.0, 'batch_size': 64}\n",
      "0.945683 (0.003128) with: {'optimizer': 'adam', 'dropout_rate': 0.0, 'batch_size': 64}\n",
      "0.950433 (0.001105) with: {'optimizer': 'adam', 'dropout_rate': 0.0, 'batch_size': 32}\n"
     ]
    }
   ],
   "source": [
    "from sklearn.model_selection import RandomizedSearchCV\n",
    "\n",
    "# Specify parameters and distributions to sample from\n",
    "param_dist = {\n",
    "    'dropout_rate': [0.0, 0.2, 0.5], \n",
    "    'optimizer': ['rmsprop', 'adam'], \n",
    "    'batch_size': [32, 64, 128]\n",
    "}\n",
    "\n",
    "# Run randomized search\n",
    "#n_iter : int, 훈련 데이터셋 반복 횟수\n",
    "n_iter_search = 5\n",
    "random_search = RandomizedSearchCV(dnn, param_distributions=param_dist, n_iter=n_iter_search, cv=3)\n",
    "random_search.fit(X_train, y_train)\n",
    "print(random_search.score(X_test, y_test))\n",
    "\n",
    "# Summarize results\n",
    "print(\"Best: %f using %s\" % (random_search.best_score_, random_search.best_params_))\n",
    "means = random_search.cv_results_['mean_test_score']\n",
    "stds = random_search.cv_results_['std_test_score']\n",
    "params = random_search.cv_results_['params']\n",
    "for mean, stdev, param in zip(means, stds, params):\n",
    "    print(\"%f (%f) with: %s\" % (mean, stdev, param))"
   ]
  },
  {
   "cell_type": "markdown",
   "metadata": {},
   "source": [
    "## End"
   ]
  },
  {
   "cell_type": "code",
   "execution_count": 45,
   "metadata": {},
   "outputs": [],
   "source": [
    "def dnn_model(optimizer, dropout_rate):\n",
    "    # Define the model & its architecture    \n",
    "    model = Sequential()\n",
    "    model.add(Dense(128, input_shape=(RESHAPED,), activation='relu'))\n",
    "    model.add(Dropout(dropout_rate))\n",
    "    model.add(Dense(64, activation='relu'))\n",
    "    model.add(Dropout(dropout_rate))\n",
    "    model.add(Dense(10, activation='softmax'))\n",
    "    # Choose the optimizer and the cost function\n",
    "    model.compile(loss='categorical_crossentropy', optimizer=optimizer, metrics=['accuracy'])\n",
    "    # Return model           \n",
    "    return model"
   ]
  },
  {
   "cell_type": "code",
   "execution_count": 46,
   "metadata": {},
   "outputs": [],
   "source": [
    "from keras.wrappers.scikit_learn import KerasClassifier\n",
    "# call Keras scikit wrapper\n",
    "dnn = KerasClassifier(build_fn=dnn_model, epochs=1)"
   ]
  },
  {
   "cell_type": "code",
   "execution_count": 47,
   "metadata": {},
   "outputs": [
    {
     "name": "stdout",
     "output_type": "stream",
     "text": [
      "Epoch 1/1\n",
      "40000/40000 [==============================] - 5s 119us/step - loss: 0.7226 - acc: 0.7714\n",
      "20000/20000 [==============================] - 1s 40us/step\n",
      "Epoch 1/1\n",
      "40000/40000 [==============================] - 4s 97us/step - loss: 0.7259 - acc: 0.7722\n",
      "20000/20000 [==============================] - 1s 44us/step\n",
      "Epoch 1/1\n",
      "40000/40000 [==============================] - 4s 96us/step - loss: 0.7930 - acc: 0.7477\n",
      "20000/20000 [==============================] - 1s 46us/step\n",
      "Epoch 1/1\n",
      "40000/40000 [==============================] - 4s 92us/step - loss: 0.5417 - acc: 0.8351\n",
      "20000/20000 [==============================] - 1s 38us/step\n",
      "Epoch 1/1\n",
      "40000/40000 [==============================] - 3s 86us/step - loss: 0.5446 - acc: 0.8377\n",
      "20000/20000 [==============================] - 1s 37us/step\n",
      "Epoch 1/1\n",
      "40000/40000 [==============================] - 3s 84us/step - loss: 0.5377 - acc: 0.8371\n",
      "20000/20000 [==============================] - 1s 39us/step\n",
      "Epoch 1/1\n",
      "40000/40000 [==============================] - 6s 158us/step - loss: 0.6785 - acc: 0.7931\n",
      "20000/20000 [==============================] - 1s 65us/step\n",
      "Epoch 1/1\n",
      "40000/40000 [==============================] - 6s 152us/step - loss: 0.7142 - acc: 0.7752\n",
      "20000/20000 [==============================] - 1s 67us/step\n",
      "Epoch 1/1\n",
      "40000/40000 [==============================] - 6s 162us/step - loss: 0.7105 - acc: 0.7796\n",
      "20000/20000 [==============================] - 1s 71us/step\n",
      "Epoch 1/1\n",
      "40000/40000 [==============================] - 4s 95us/step - loss: 0.3572 - acc: 0.8963\n",
      "20000/20000 [==============================] - 1s 55us/step\n",
      "Epoch 1/1\n",
      "40000/40000 [==============================] - 4s 95us/step - loss: 0.3471 - acc: 0.8998\n",
      "20000/20000 [==============================] - 1s 51us/step\n",
      "Epoch 1/1\n",
      "40000/40000 [==============================] - 4s 98us/step - loss: 0.3303 - acc: 0.9042\n",
      "20000/20000 [==============================] - 1s 51us/step\n",
      "Epoch 1/1\n",
      "40000/40000 [==============================] - 3s 87us/step - loss: 0.4043 - acc: 0.8849\n",
      "20000/20000 [==============================] - 1s 44us/step\n",
      "Epoch 1/1\n",
      "40000/40000 [==============================] - 3s 80us/step - loss: 0.4117 - acc: 0.8856\n",
      "20000/20000 [==============================] - 1s 43us/step\n",
      "Epoch 1/1\n",
      "40000/40000 [==============================] - 4s 92us/step - loss: 0.4104 - acc: 0.8866\n",
      "20000/20000 [==============================] - 1s 44us/step\n",
      "Epoch 1/1\n",
      "60000/60000 [==============================] - 4s 71us/step - loss: 0.3356 - acc: 0.9041\n",
      "10000/10000 [==============================] - 1s 80us/step\n",
      "0.95\n",
      "Best: 0.936867 using {'optimizer': 'adam', 'dropout_rate': 0.0, 'batch_size': 128}\n",
      "0.921367 (0.002641) with: {'optimizer': 'rmsprop', 'dropout_rate': 0.5, 'batch_size': 64}\n",
      "0.935367 (0.000997) with: {'optimizer': 'adam', 'dropout_rate': 0.2, 'batch_size': 128}\n",
      "0.926017 (0.001939) with: {'optimizer': 'rmsprop', 'dropout_rate': 0.5, 'batch_size': 32}\n",
      "0.916350 (0.017968) with: {'optimizer': 'rmsprop', 'dropout_rate': 0.0, 'batch_size': 64}\n",
      "0.936867 (0.003085) with: {'optimizer': 'adam', 'dropout_rate': 0.0, 'batch_size': 128}\n"
     ]
    }
   ],
   "source": [
    "from sklearn.model_selection import RandomizedSearchCV\n",
    "\n",
    "# Specify parameters and distributions to sample from\n",
    "param_dist = {\n",
    "    'dropout_rate': [0.0, 0.2, 0.5], \n",
    "    'optimizer': ['rmsprop', 'adam'], \n",
    "    'batch_size': [32, 64, 128]\n",
    "}\n",
    "\n",
    "# Run randomized search\n",
    "#n_iter : int, 훈련 데이터셋 반복 횟수\n",
    "n_iter_search = 5\n",
    "random_search = RandomizedSearchCV(dnn, param_distributions=param_dist, n_iter=n_iter_search, cv=3)\n",
    "random_search.fit(X_train, y_train)\n",
    "print(random_search.score(X_test, y_test))\n",
    "\n",
    "# Summarize results\n",
    "print(\"Best: %f using %s\" % (random_search.best_score_, random_search.best_params_))\n",
    "means = random_search.cv_results_['mean_test_score']\n",
    "stds = random_search.cv_results_['std_test_score']\n",
    "params = random_search.cv_results_['params']\n",
    "for mean, stdev, param in zip(means, stds, params):\n",
    "    print(\"%f (%f) with: %s\" % (mean, stdev, param))"
   ]
  },
  {
   "cell_type": "code",
   "execution_count": null,
   "metadata": {},
   "outputs": [],
   "source": []
  }
 ],
 "metadata": {
  "colab": {
   "collapsed_sections": [],
   "default_view": {},
   "name": "code_DNN_01.ipynb",
   "provenance": [],
   "version": "0.3.2",
   "views": {}
  },
  "kernelspec": {
   "display_name": "Python 3",
   "language": "python",
   "name": "python3"
  },
  "language_info": {
   "codemirror_mode": {
    "name": "ipython",
    "version": 3
   },
   "file_extension": ".py",
   "mimetype": "text/x-python",
   "name": "python",
   "nbconvert_exporter": "python",
   "pygments_lexer": "ipython3",
   "version": "3.7.5"
  }
 },
 "nbformat": 4,
 "nbformat_minor": 4
}
