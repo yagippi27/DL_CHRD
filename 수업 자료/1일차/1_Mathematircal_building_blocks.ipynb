{
 "cells": [
  {
   "cell_type": "markdown",
   "metadata": {
    "slideshow": {
     "slide_type": "slide"
    }
   },
   "source": [
    "<font color=\"darkgreen\">\n",
    "    \n",
    "# Lecture 1. Mathematical Building Blocks of Neural Networks"
   ]
  },
  {
   "cell_type": "markdown",
   "metadata": {},
   "source": [
    "## 1.1 MNIST data "
   ]
  },
  {
   "cell_type": "markdown",
   "metadata": {},
   "source": [
    "![image.png](figures/mnist.png)"
   ]
  },
  {
   "cell_type": "markdown",
   "metadata": {},
   "source": [
    "- 딥러닝의 \"Hellow world\" \n",
    "- 흑백 손글씨 숫자 이미지($28\\times 28$ 픽셀)를 0-9까지 10개의 범주로 구분해놓은 데이터셋\n",
    "- 6만개 training set, 1 만개 test set으로 구성  "
   ]
  },
  {
   "cell_type": "code",
   "execution_count": null,
   "metadata": {
    "ExecuteTime": {
     "end_time": "2019-03-09T00:09:36.027849Z",
     "start_time": "2019-03-09T00:09:35.599000Z"
    }
   },
   "outputs": [],
   "source": [
    "import keras\n",
    "from keras.datasets import mnist\n",
    "\n",
    "(train_images, train_labels), (test_images, test_labels) = mnist.load_data()"
   ]
  },
  {
   "cell_type": "markdown",
   "metadata": {},
   "source": [
    "#### Training set"
   ]
  },
  {
   "cell_type": "code",
   "execution_count": null,
   "metadata": {
    "ExecuteTime": {
     "end_time": "2019-03-09T00:09:36.033880Z",
     "start_time": "2019-03-09T00:09:36.029955Z"
    }
   },
   "outputs": [],
   "source": [
    "train_images.shape"
   ]
  },
  {
   "cell_type": "code",
   "execution_count": null,
   "metadata": {
    "ExecuteTime": {
     "end_time": "2019-03-09T00:09:36.081563Z",
     "start_time": "2019-03-09T00:09:36.077369Z"
    }
   },
   "outputs": [],
   "source": [
    "len(train_labels)"
   ]
  },
  {
   "cell_type": "code",
   "execution_count": null,
   "metadata": {
    "ExecuteTime": {
     "end_time": "2019-03-09T00:09:36.278205Z",
     "start_time": "2019-03-09T00:09:36.274024Z"
    }
   },
   "outputs": [],
   "source": [
    "train_labels"
   ]
  },
  {
   "cell_type": "code",
   "execution_count": null,
   "metadata": {
    "ExecuteTime": {
     "end_time": "2019-03-09T00:09:37.020791Z",
     "start_time": "2019-03-09T00:09:36.864923Z"
    }
   },
   "outputs": [],
   "source": [
    "digit = train_images[4]\n",
    "import matplotlib.pyplot as plt\n",
    "plt.imshow(digit, cmap=plt.cm.binary)\n",
    "plt.show()"
   ]
  },
  {
   "cell_type": "markdown",
   "metadata": {},
   "source": [
    "#### Test set"
   ]
  },
  {
   "cell_type": "code",
   "execution_count": null,
   "metadata": {
    "ExecuteTime": {
     "end_time": "2019-03-09T00:09:37.760584Z",
     "start_time": "2019-03-09T00:09:37.755568Z"
    }
   },
   "outputs": [],
   "source": [
    "test_images.shape"
   ]
  },
  {
   "cell_type": "code",
   "execution_count": null,
   "metadata": {
    "ExecuteTime": {
     "end_time": "2019-03-09T00:09:37.979723Z",
     "start_time": "2019-03-09T00:09:37.975028Z"
    }
   },
   "outputs": [],
   "source": [
    "len(test_labels)"
   ]
  },
  {
   "cell_type": "code",
   "execution_count": null,
   "metadata": {
    "ExecuteTime": {
     "end_time": "2019-03-09T00:09:38.250524Z",
     "start_time": "2019-03-09T00:09:38.244637Z"
    }
   },
   "outputs": [],
   "source": [
    "test_labels"
   ]
  },
  {
   "cell_type": "markdown",
   "metadata": {},
   "source": [
    "---\n",
    "### Workflow\n"
   ]
  },
  {
   "cell_type": "markdown",
   "metadata": {},
   "source": [
    "#### (1) Network architecture"
   ]
  },
  {
   "cell_type": "code",
   "execution_count": null,
   "metadata": {
    "ExecuteTime": {
     "end_time": "2019-03-09T00:09:39.053011Z",
     "start_time": "2019-03-09T00:09:39.022424Z"
    }
   },
   "outputs": [],
   "source": [
    "from keras import models\n",
    "from keras import layers\n",
    "\n",
    "network = models.Sequential()\n",
    "network.add(layers.Dense(512, activation='relu', input_shape=(28 * 28,)))\n",
    "network.add(layers.Dense(10, activation='softmax'))"
   ]
  },
  {
   "cell_type": "markdown",
   "metadata": {},
   "source": [
    "- Fully connected layer 두 개가 연결된 모형을 구축\n",
    "- 마지막 layer는 10개의 확률 점수가 들어있는 배열을 반환하는 softmax activation을 사용하여 0-9의 숫자 클래스에 들어갈 확률을 예측 "
   ]
  },
  {
   "cell_type": "markdown",
   "metadata": {},
   "source": [
    "#### (2) Compilation"
   ]
  },
  {
   "cell_type": "code",
   "execution_count": null,
   "metadata": {
    "ExecuteTime": {
     "end_time": "2019-03-09T00:09:40.070408Z",
     "start_time": "2019-03-09T00:09:40.025612Z"
    }
   },
   "outputs": [],
   "source": [
    "network.compile(optimizer='rmsprop',\n",
    "                loss='categorical_crossentropy',\n",
    "                metrics=['accuracy'])"
   ]
  },
  {
   "cell_type": "markdown",
   "metadata": {},
   "source": [
    "- `loss function`:  모형의 성능을 측정하는 방법으로 네트워크가 옳은 방향으로 학습될 수 있도록 만들어줌 \n",
    "- `optimizer`: input data를 기반으로  loss function을 최소화 시키도록 weight를 업데이트하는 메커니즘 \n",
    "- `metrics`: training/test 과정을 모니터링할 지표 "
   ]
  },
  {
   "cell_type": "markdown",
   "metadata": {},
   "source": [
    "#### (3) Preparing the image data and the labels"
   ]
  },
  {
   "cell_type": "code",
   "execution_count": null,
   "metadata": {
    "ExecuteTime": {
     "end_time": "2019-03-09T00:09:41.863443Z",
     "start_time": "2019-03-09T00:09:41.476047Z"
    }
   },
   "outputs": [],
   "source": [
    "train_images = train_images.reshape((60000, 28 * 28))\n",
    "train_images = train_images.astype('float32') / 255\n",
    "\n",
    "test_images = test_images.reshape((10000, 28 * 28))\n",
    "test_images = test_images.astype('float32') / 255"
   ]
  },
  {
   "cell_type": "markdown",
   "metadata": {},
   "source": [
    "- 데이터를 네트워크에 맞는 크기로 바꿈 \n",
    "- 모든 값을 0과 1사이의 값으로 변환 "
   ]
  },
  {
   "cell_type": "code",
   "execution_count": null,
   "metadata": {
    "ExecuteTime": {
     "end_time": "2019-03-09T00:09:44.354375Z",
     "start_time": "2019-03-09T00:09:44.346379Z"
    }
   },
   "outputs": [],
   "source": [
    "from keras.utils import to_categorical\n",
    "\n",
    "train_labels = to_categorical(train_labels)\n",
    "test_labels = to_categorical(test_labels)"
   ]
  },
  {
   "cell_type": "markdown",
   "metadata": {},
   "source": [
    "- 레이블을 범주형으로 인코딩(one-hot encoding)"
   ]
  },
  {
   "cell_type": "markdown",
   "metadata": {},
   "source": [
    "#### (4) Training the model"
   ]
  },
  {
   "cell_type": "code",
   "execution_count": null,
   "metadata": {
    "ExecuteTime": {
     "end_time": "2019-03-09T00:09:53.587038Z",
     "start_time": "2019-03-09T00:09:45.081087Z"
    }
   },
   "outputs": [],
   "source": [
    "network.fit(train_images, train_labels, epochs=5, batch_size=128)"
   ]
  },
  {
   "cell_type": "markdown",
   "metadata": {},
   "source": [
    "- 훈련하는 동안 loss와 accuracy가 출력됨 \n",
    "- 60000개의 데이터셋을 총 5번 사용하는 만큼(epoch=5) 훈련을 지속 "
   ]
  },
  {
   "cell_type": "markdown",
   "metadata": {},
   "source": [
    "#### (5) Prediction for test set"
   ]
  },
  {
   "cell_type": "code",
   "execution_count": null,
   "metadata": {
    "ExecuteTime": {
     "end_time": "2019-03-09T00:09:54.885248Z",
     "start_time": "2019-03-09T00:09:54.406451Z"
    }
   },
   "outputs": [],
   "source": [
    "test_loss, test_acc = network.evaluate(test_images, test_labels)"
   ]
  },
  {
   "cell_type": "code",
   "execution_count": null,
   "metadata": {
    "ExecuteTime": {
     "end_time": "2019-03-09T00:09:55.675709Z",
     "start_time": "2019-03-09T00:09:55.670683Z"
    }
   },
   "outputs": [],
   "source": [
    "print('test_acc:', test_acc)"
   ]
  },
  {
   "cell_type": "markdown",
   "metadata": {},
   "source": [
    "- Test set에 대한 accuracy가 0.9799로 training set에 대한 accuracy보다 약간 낮음 (overfitting)"
   ]
  },
  {
   "cell_type": "markdown",
   "metadata": {},
   "source": [
    "## 1.2 Data representations for neural networks"
   ]
  },
  {
   "cell_type": "markdown",
   "metadata": {},
   "source": [
    "- Tensor: 데이터를 위한 컨테이나\n",
    "- 행렬의 일반화된 형태 \n",
    "- 차원을 axis라고 부름 "
   ]
  },
  {
   "cell_type": "markdown",
   "metadata": {},
   "source": [
    "#### Scalar (0D tensor)\n",
    "- 하나의 숫자만 담고 있는 tensor"
   ]
  },
  {
   "cell_type": "code",
   "execution_count": null,
   "metadata": {
    "ExecuteTime": {
     "end_time": "2019-03-09T00:09:58.003737Z",
     "start_time": "2019-03-09T00:09:57.996272Z"
    }
   },
   "outputs": [],
   "source": [
    "import numpy as np\n",
    "x=np.array(12)\n",
    "x"
   ]
  },
  {
   "cell_type": "code",
   "execution_count": null,
   "metadata": {
    "ExecuteTime": {
     "end_time": "2019-03-09T00:09:58.607243Z",
     "start_time": "2019-03-09T00:09:58.600702Z"
    }
   },
   "outputs": [],
   "source": [
    "x.ndim"
   ]
  },
  {
   "cell_type": "markdown",
   "metadata": {},
   "source": [
    "#### Vectors (1D tensor)\n",
    "- 하나의 axis를 가지는 벡터 "
   ]
  },
  {
   "cell_type": "code",
   "execution_count": null,
   "metadata": {
    "ExecuteTime": {
     "end_time": "2019-03-09T00:10:00.137447Z",
     "start_time": "2019-03-09T00:10:00.130201Z"
    }
   },
   "outputs": [],
   "source": [
    "x=np.array([12,3,6,14,7])\n",
    "x.ndim"
   ]
  },
  {
   "cell_type": "markdown",
   "metadata": {},
   "source": [
    "- `x`는 5-dimensional vector (5D tensor가 아님)"
   ]
  },
  {
   "cell_type": "markdown",
   "metadata": {},
   "source": [
    "#### Matrices (2D tensors)\n",
    "- 2개의 axis가 있음: row, column\n",
    "\n"
   ]
  },
  {
   "cell_type": "code",
   "execution_count": null,
   "metadata": {
    "ExecuteTime": {
     "end_time": "2019-03-09T00:10:01.334237Z",
     "start_time": "2019-03-09T00:10:01.324421Z"
    }
   },
   "outputs": [],
   "source": [
    "x = np.array([[5, 78, 2, 34, 0],\n",
    "              [6, 79, 3, 35, 1],\n",
    "              [7, 80, 4, 36, 2]])\n",
    "x.ndim"
   ]
  },
  {
   "cell_type": "markdown",
   "metadata": {},
   "source": [
    "- 1st axis: row\n",
    "- 2nd axis: column \n",
    "- 1st row = `[5, 78, 2, 34, 0]`\n",
    "- 1st column = `[5,6,7]`"
   ]
  },
  {
   "cell_type": "markdown",
   "metadata": {},
   "source": [
    "#### 3D tensors and higher-dimensional tensors\n",
    "- 행렬들을 모아 하나의 array로 만들면 직육면체의 3D tensor가 만들어짐 "
   ]
  },
  {
   "cell_type": "code",
   "execution_count": null,
   "metadata": {
    "ExecuteTime": {
     "end_time": "2019-03-09T00:10:02.672622Z",
     "start_time": "2019-03-09T00:10:02.654965Z"
    }
   },
   "outputs": [],
   "source": [
    "x = np.array([[[5, 78, 2, 34, 0],\n",
    "               [6, 79, 3, 35, 1],\n",
    "               [7, 80, 4, 36, 2]],\n",
    "              [[5, 78, 2, 34, 0],\n",
    "               [6, 79, 3, 35, 1],\n",
    "               [7, 80, 4, 36, 2]],\n",
    "              [[5, 78, 2, 34, 0],\n",
    "               [6, 79, 3, 35, 1],\n",
    "               [7, 80, 4, 36, 2]]])\n",
    "x.ndim"
   ]
  },
  {
   "cell_type": "markdown",
   "metadata": {},
   "source": [
    "#### Key attributes\n",
    "- rank(axis의 개수)\n",
    "    - 3D tensor의 rank는 3\n",
    "    - 2D tensor의 rank는 2\n",
    "    - `ndim` 속성에 저장 \n",
    "- shape\n",
    "    - Tensor의 각 axis를 따라 얼마나 많은 차원이 있는지를 나타낸 tuple \n",
    "    - 위의 2D tensor의 shape은 (3,5)\n",
    "    - 위의 3D tensor의 shape은 (3,3,5)\n",
    "- data type\n",
    "    - Tensor에 포함된 데이터의 타입\n",
    "    - float32, uint8, float64 등\n",
    "    - `dtype` 속성에 저장\n",
    "    "
   ]
  },
  {
   "cell_type": "code",
   "execution_count": null,
   "metadata": {
    "ExecuteTime": {
     "end_time": "2019-03-09T00:10:07.743707Z",
     "start_time": "2019-03-09T00:10:07.347663Z"
    }
   },
   "outputs": [],
   "source": [
    "(train_images, train_labels), (test_images, test_labels) = mnist.load_data()"
   ]
  },
  {
   "cell_type": "markdown",
   "metadata": {},
   "source": [
    "<font color=\"blue\">_TO DO: MNIST 데이터_\n",
    "    \n",
    "1. train_images의 rank는?\n",
    "2. train_images의 shape은?\n",
    "3. train_images의 data type은?\n"
   ]
  },
  {
   "cell_type": "markdown",
   "metadata": {},
   "source": [
    "#### Examples of tensor data\n",
    "- Vector data—2D tensors of shape (samples, features)\n",
    "    - 사람의 나이, 우편번호, 소득으로 구성된 인구통계 데이터. 10만명이 포함된 데이터 셋이라면 (100000,3) \n",
    "    - 공통 단어 2만 개로 이루어진 텍스트 문서 500개가 있다. 하나의 문서를 각 단어가 등장한 횟수로 표현된 벡터로 나타낸다면 (500,20000)\n",
    "- Timeseries data or sequence data—3D tensors of shape (samples, timesteps, features)\n",
    "    ![image.png](figures/timeseries.PNG)\n",
    "    \n",
    "    - 관례적으로 시간은 axis=1인 축으로 표현 \n",
    "    - 주식가격 데이터셋: 1분 마다 3개의 feature(현재 주식가격, 지난 1분 동안 최고 가격, 최저 가격)를 저장. 1분마다 3-dimensional vector 생성. 하루의 거래는 (390,3) 크기의 2D tensor로 저장. 250일치 데이터는 (250,390,3) 크기의 3D tensor로 저장\n",
    "    - 트윗 데이터셋: 각 트윗은 128개의 알파벳/문자로 구성된 280개의 문자 시퀀스. 하나의 트윗은 (280,128) 크기의 2D tensor. 100만개의 트윗이 포함된 데이터는 (1000000,280,128) 크기의 3D tensor\n",
    "- Images—4D tensors of shape (samples, height, width, channels) \n",
    "\n",
    "    ![image.png](figures/4d_image.PNG)\n",
    "    -  하나의 이미지는 전형적으로 높이, 너비, 컬러채널의 3-dimensional data. $256\\times 256$ 픽셀의 이미지라면 (256, 256, 3) 크기의 3D tensor\n",
    "    - 128개의 이미지가 포함된 batch는 (128, 256, 256, 3) 크기의 4D tensor로 표현 \n",
    "    - 만일 흑백 이미지라면 (128, 256, 256, 1)\n",
    "\n",
    "- Video—5D tensors of shape (samples, frames, height, width, channels)\n",
    "    - 비디오 데이터는 이미지의 연속 \n",
    "    - 60초 짜리 $144 \\times 256$ 유튜브 비디오 클립을 초당 4프레임으로 샘플링하면 240 프레임을 생성. 하나의 비디오 클립은 (240, 144, 256, 3)\n",
    "    - 비디오 클립을 4개 포함한 batch는 (4, 240, 144, 256, 3) 크기의 5D tensor"
   ]
  },
  {
   "cell_type": "markdown",
   "metadata": {},
   "source": [
    "<font color=\"blue\">\n",
    "    \n",
    "_TO DO: _\n",
    "    \n",
    "영화 리뷰 25000개가 있다. 각 리뷰는 200개의 단어로 이루어져 있다. \n",
    "- 가장 자주 등장하는 10000개의 단어에 대해 각 리뷰에 해당 단어의 포함 유무를 0/1 로 나타낸다. 이 데이터의  shape은 무엇인가? \n",
    "- 가장 자주 등장하는 10000개에 대해 각 단어를 one-hot vector로 표현하여 하나의 문장을 matrix로 표현한다. 이 데이터의 shape은 무엇인가? \n",
    "\n"
   ]
  },
  {
   "cell_type": "markdown",
   "metadata": {
    "slideshow": {
     "slide_type": "fragment"
    }
   },
   "source": [
    "\n",
    "__References__\n",
    "\n",
    "\n",
    "- [Deep Learning with Python, François Chollet,](https://www.manning.com/books/deep-learning-with-python)"
   ]
  }
 ],
 "metadata": {
  "anaconda-cloud": {},
  "kernelspec": {
   "display_name": "Python 3",
   "language": "python",
   "name": "python3"
  },
  "language_info": {
   "codemirror_mode": {
    "name": "ipython",
    "version": 3
   },
   "file_extension": ".py",
   "mimetype": "text/x-python",
   "name": "python",
   "nbconvert_exporter": "python",
   "pygments_lexer": "ipython3",
   "version": "3.6.4"
  }
 },
 "nbformat": 4,
 "nbformat_minor": 4
}
