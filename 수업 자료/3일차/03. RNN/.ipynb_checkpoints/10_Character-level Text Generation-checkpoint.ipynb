{
 "cells": [
  {
   "cell_type": "markdown",
   "metadata": {},
   "source": [
    "# Lecture 10. Character-level Text Generation"
   ]
  },
  {
   "cell_type": "markdown",
   "metadata": {},
   "source": [
    "## 10.1 Text 처리 \n",
    "- 텍스트 데이터는 가장 흔한 시퀀스 형태의 데이터\n",
    "- Document classification, sentiment analysis, Question answering 등에 활용 \n",
    "- 텍스트 원본을 모형의 입력값으로 사용하지 못하기 때문에 텍스트를 수치형 텐서로 변환시키는 과정이 필요함\n",
    "\n",
    "- 텍스트 $\\rightarrow$ 토큰 $\\rightarrow$ 벡터 \n",
    "![](../../figures/token.PNG)"
   ]
  },
  {
   "cell_type": "markdown",
   "metadata": {},
   "source": [
    "### Tokenization\n",
    "        \n",
    "- 텍스트를 수치형 텐서로 변환하기 위해 나누는 단위\n",
    "    - 각 단어를 하나의 벡터로 변환\n",
    "            {“the”, “cat”, “sat”, “on”, “the”, “mat”, “.”}\n",
    "    - 각 문자를 하나의 벡터로 변환\n",
    "            {\"a\",\"c\",\"e\",\"h\",\"m\",\"n\",\"o\",\"s\",\"t\",\".\"}\n",
    "    - n-gram(연속된 단어나 문자의 그룹)을 추출하여 벡터로 변환 \n",
    "        - 2-grams\n",
    "                {\"The\", \"The cat\", \"cat\", \"cat sat\", \"sat\", \"sat on\", \"on\", \"on the\", \"the\", \"the mat\", \"mat\"}\n",
    "        - 3-grams\n",
    "                {\"The\", \"The cat\", \"cat\", \"cat sat\", \"The cat sat\", \"sat\", \"sat on\", \"on\", \"cat sat on\", \"on the\", \"the\", \"sat on the\", \"the mat\", \"mat\", \"on the mat\"}\n",
    "\n",
    "- 토큰의 집합을 vocabulary, dictionary 라고 일컬음"
   ]
  },
  {
   "cell_type": "markdown",
   "metadata": {},
   "source": [
    "### 단어와 문자의 인코딩\n",
    "1. One-hot encoding\n",
    "    - 토큰을 벡터화 하는 가장 기본적인 방법\n",
    "    - 모든 단어에 고유한 정수 인덱스를 부여\n",
    "    - 정수 인덱스를 vocabulary size 크기의 binary 벡터로 변환 "
   ]
  },
  {
   "cell_type": "code",
   "execution_count": null,
   "metadata": {},
   "outputs": [],
   "source": [
    "# Toy example\n",
    "samples = ['The cat sat on the mat.', 'The dog ate my homework.']\n",
    "text = \" \".join(samples)\n",
    "\n",
    "chars = set([c for c in text])\n",
    "nb_chars = len(chars)\n",
    "\n",
    "char2index = dict((c, i) for i, c in enumerate(sorted(chars)))\n",
    "index2char = dict((i, c) for i, c in enumerate(sorted(chars)))\n",
    "\n",
    "import numpy as np\n",
    "max_length = 50\n",
    "results = np.zeros((len(samples), max_length, len(char2index)))\n",
    "for i, sample in enumerate(samples):\n",
    "    for j, character in enumerate(sample):\n",
    "        results[i, j, char2index[character]] = 1."
   ]
  },
  {
   "cell_type": "markdown",
   "metadata": {},
   "source": [
    "2. Word embedding\n",
    "    - One-hot encoding을 하게 되면 한 단어를 나타내는 벡터의 길이가 vocabulary size와 같기 때문에 일반적으로 매우 고차원이고 대부분이 0으로 채워져 있음: 비효율적\n",
    "    - 0 또는 1로 채워진 고차원의 벡터 대신 실수값으로 채워져 있는 저차원 벡터로 표현하는 방법을 사용 \n",
    "    - 저차원에 더 많은 정보를 저장할 수 있어 효율적임\n",
    "    - Lecture 11에서 자세히 다룰 예정 \n",
    "\n",
    "![](../../figures/onehot_embed.PNG)"
   ]
  },
  {
   "cell_type": "markdown",
   "metadata": {},
   "source": [
    "## 10.2 Character-level text generation model\n",
    "- 소설책의 텍스트를 학습하여 문장을 자동생성하는 모델\n",
    "-  Alice's Adventures in Wonderland\n"
   ]
  },
  {
   "cell_type": "markdown",
   "metadata": {},
   "source": [
    "      \n",
    "    ... Alice was beginning to get very tired of sitting by her sister\n",
    "    on the bank, and of having nothing to do:  once or twice she had\n",
    "    peeped into the book her sister was reading, but it had no\n",
    "    pictures or conversations in it, `and what is the use of a book,'\n",
    "    thought Alice `without pictures or conversation?' ...\n",
    "    \n",
    "- 첫 10개의 문자를 입력하여 다음에 나타날 문자를 예측\n",
    "\n",
    "<img src=\"../../figures/text_gen.png\" width=\"40%\" align=\"left\">\n",
    "<img src=\"../../figures/text_gen2.PNG\" width=\"30%\">\n",
    "\n"
   ]
  },
  {
   "cell_type": "markdown",
   "metadata": {},
   "source": [
    "### Preparing the data"
   ]
  },
  {
   "cell_type": "markdown",
   "metadata": {},
   "source": [
    "- 텍스트를 한 줄씩 불러들여 소문자 변환, 빈 줄 삭제 등의 기본적인 전처리를 진행"
   ]
  },
  {
   "cell_type": "code",
   "execution_count": null,
   "metadata": {
    "ExecuteTime": {
     "end_time": "2018-07-10T08:42:53.197378Z",
     "start_time": "2018-07-10T08:42:53.192152Z"
    }
   },
   "outputs": [],
   "source": [
    "# -*- coding: utf-8 -*-\n",
    "INPUT_FILE = \"./data/alice_in_wonderland.txt\"\n",
    "\n",
    "fin = open(INPUT_FILE, 'rb') # 바이너리 파일을 읽기 모드로 오픈\n",
    "\n",
    "lines = []\n",
    "i=0\n",
    "for line in fin: # 파일을 한 줄씩 읽어들임\n",
    "    line = line.strip().lower() # 공백을 제거하고 소문자로 변환\n",
    "    line = line.decode(\"ascii\") # 디코딩하여 char로 변환\n",
    "    if len(line) == 0: # 빈 줄 삭제\n",
    "        continue\n",
    "    lines.append(line)\n",
    "fin.close()\n",
    "\n",
    "text = \" \".join(lines) # 모든 줄을 하나로 이어붙임"
   ]
  },
  {
   "cell_type": "markdown",
   "metadata": {},
   "source": [
    "- 문자 수준의 One-hot encoding을 하기 위해 유일한 문자들의 집합인 vocabulary 생성"
   ]
  },
  {
   "cell_type": "code",
   "execution_count": null,
   "metadata": {
    "ExecuteTime": {
     "end_time": "2018-07-10T08:42:53.223841Z",
     "start_time": "2018-07-10T08:42:53.212679Z"
    }
   },
   "outputs": [],
   "source": [
    "chars = set([c for c in text])\n",
    "nb_chars = len(chars)"
   ]
  },
  {
   "cell_type": "code",
   "execution_count": null,
   "metadata": {},
   "outputs": [],
   "source": [
    "nb_chars"
   ]
  },
  {
   "cell_type": "markdown",
   "metadata": {},
   "source": [
    "* char와 index를 연결하는 lookup table 구축\n"
   ]
  },
  {
   "cell_type": "code",
   "execution_count": null,
   "metadata": {
    "ExecuteTime": {
     "end_time": "2018-07-10T08:42:53.223841Z",
     "start_time": "2018-07-10T08:42:53.212679Z"
    }
   },
   "outputs": [],
   "source": [
    "char2index = dict((c, i) for i, c in enumerate(sorted(chars)))\n",
    "index2char = dict((i, c) for i, c in enumerate(sorted(chars)))"
   ]
  },
  {
   "cell_type": "code",
   "execution_count": null,
   "metadata": {},
   "outputs": [],
   "source": [
    "char2index['a']"
   ]
  },
  {
   "cell_type": "code",
   "execution_count": null,
   "metadata": {
    "scrolled": true
   },
   "outputs": [],
   "source": [
    "index2char[12]"
   ]
  },
  {
   "cell_type": "markdown",
   "metadata": {},
   "source": [
    "- Input sequence와 output label 생성 \n",
    "- SEQLEN: 다음 문자를 예측하기 위해 입력할 문자의 수 \n",
    "- STEP: 몇 개씩 건너뛰며 window를 이동할 것인가? \n",
    "- Ex: Input text= \"The sky was falling\"\n",
    "    - The sky wa -> s\n",
    "    - he sky was -> \" \"  \n",
    "    - e sky was  -> f\n",
    "    - sky was f -> a\n",
    "    - sky was fa -> l"
   ]
  },
  {
   "cell_type": "code",
   "execution_count": null,
   "metadata": {
    "ExecuteTime": {
     "end_time": "2018-07-10T08:42:53.318734Z",
     "start_time": "2018-07-10T08:42:53.225761Z"
    }
   },
   "outputs": [],
   "source": [
    "SEQLEN = 10\n",
    "STEP = 1\n",
    "\n",
    "input_chars = []\n",
    "label_chars = []\n",
    "for i in range(0, len(text) - SEQLEN, STEP):\n",
    "    input_chars.append(text[i:i + SEQLEN])\n",
    "    label_chars.append(text[i + SEQLEN])"
   ]
  },
  {
   "cell_type": "code",
   "execution_count": null,
   "metadata": {
    "ExecuteTime": {
     "end_time": "2018-07-10T08:42:53.326050Z",
     "start_time": "2018-07-10T08:42:53.320449Z"
    }
   },
   "outputs": [],
   "source": [
    "input_chars[0:10],label_chars[0:10]"
   ]
  },
  {
   "cell_type": "code",
   "execution_count": null,
   "metadata": {},
   "outputs": [],
   "source": [
    "len(input_chars)"
   ]
  },
  {
   "cell_type": "markdown",
   "metadata": {},
   "source": [
    "- 위에서 만든 input/output 문자 셋을 one-hot encoding으로 변환하여 모형에 입력 가능한 형태로 변환"
   ]
  },
  {
   "cell_type": "code",
   "execution_count": null,
   "metadata": {
    "ExecuteTime": {
     "end_time": "2018-07-10T08:42:53.945087Z",
     "start_time": "2018-07-10T08:42:53.328270Z"
    }
   },
   "outputs": [],
   "source": [
    "X = np.zeros((len(input_chars), SEQLEN, nb_chars), dtype=np.bool)\n",
    "y = np.zeros((len(input_chars), nb_chars), dtype=np.bool)\n",
    "\n",
    "for i, input_char in enumerate(input_chars):\n",
    "    for j, ch in enumerate(input_char):\n",
    "        X[i, j, char2index[ch]] = 1\n",
    "    y[i, char2index[label_chars[i]]] = 1"
   ]
  },
  {
   "cell_type": "markdown",
   "metadata": {},
   "source": [
    "- input과 output chars를 nb_chars 길이의 one-hot vector로 표현 \n",
    "- input\n",
    "    - (len(input_chars), SEQLEN, nb_chars)\n",
    "    - SEQLEN 개 시점의 nb_chars 차원의 벡터가 input shape\n",
    "- output\n",
    "    - (len(input_chars), nb_chars)\n",
    "    - (SEQLEN, nb_chars) 차원의 각 input에 대응하는 output label"
   ]
  },
  {
   "cell_type": "code",
   "execution_count": null,
   "metadata": {
    "ExecuteTime": {
     "end_time": "2018-07-10T08:42:53.952917Z",
     "start_time": "2018-07-10T08:42:53.947986Z"
    }
   },
   "outputs": [],
   "source": [
    "print(input_chars[0])\n",
    "print(X[0].shape)\n",
    "print(y.shape)"
   ]
  },
  {
   "cell_type": "markdown",
   "metadata": {},
   "source": [
    "\n",
    "### Building the network"
   ]
  },
  {
   "cell_type": "code",
   "execution_count": null,
   "metadata": {
    "ExecuteTime": {
     "end_time": "2018-07-10T08:42:54.273176Z",
     "start_time": "2018-07-10T08:42:53.955909Z"
    }
   },
   "outputs": [],
   "source": [
    "from keras.models import Sequential\n",
    "from keras.layers import LSTM, Dense\n",
    "from keras import optimizers\n",
    "from keras import backend as K\n",
    "from keras.callbacks import EarlyStopping, ModelCheckpoint, TensorBoard \n",
    "import time \n",
    "\n",
    "HIDDEN_SIZE = 32\n",
    "BATCH_SIZE = 128\n",
    "\n",
    "K.clear_session()\n",
    "model = Sequential()\n",
    "model.add(LSTM(HIDDEN_SIZE, return_sequences=True, input_shape=(SEQLEN, nb_chars), activation='relu'))\n",
    "model.add(LSTM(HIDDEN_SIZE, return_sequences=False, activation='relu'))\n",
    "model.add(Dense(HIDDEN_SIZE, activation='relu'))\n",
    "model.add(Dense(nb_chars, activation=\"softmax\"))\n",
    "model.compile(loss=\"categorical_crossentropy\", optimizer=optimizers.adam(lr=0.001))\n",
    "\n",
    "now = time.strftime(\"%c\")\n",
    "callbacks_list = [\n",
    "    ModelCheckpoint(filepath='models/text_gen.h5', monitor='val_loss', save_best_only=True),\n",
    "    TensorBoard(log_dir='logs/text_generation/'+now),\n",
    "    EarlyStopping(monitor='val_loss',patience=3)\n",
    "]\n",
    "#model.fit(X, y, batch_size=BATCH_SIZE, epochs=100, validation_split=0.2, callbacks=callbacks_list)\n",
    "model.fit(X, y, batch_size=BATCH_SIZE, epochs=100, validation_split=0.2)"
   ]
  },
  {
   "cell_type": "markdown",
   "metadata": {},
   "source": [
    "\n",
    "### Prediction\n",
    "\n",
    "- random seed 선택 (10개의 char로 이루어진 부분 문장)\n",
    "- 다음번 문자로 나타날 확률이 가장 높은 문자 프린트 (ypred)\n",
    "- \"앞에서 사용된 9개 문자 + 새로 발생된 문자 1개\"를 input으로 사용 \n",
    "- 반복을 통해 지정한 개수 만큼 문자 발생 \n",
    "<img src=\"../../figures/text_gen_pred.png\" width=\"50%\">"
   ]
  },
  {
   "cell_type": "markdown",
   "metadata": {},
   "source": [
    "- 문자열을 입력하여 그 다음에 나타날 확률일 가장 높은 문자를 무조건 발생시키면 비슷한 상황에서 언제나 같은 문자를 만들어냄\n",
    "- 무조건 가장 높은 문자를 출력하는 대신 확률적으로 발생시킨다면 보다 다양한 문장을 생성할 수 있음 \n",
    "    - e.g) {\"a\",\"b\",\"c\"}에 대한 output이 {0.2, 0.5, 0.3}인 경우 언제나 \"b\"를 출력하기 보다는 0.5의 확률로 \"b\"를 출력(multinomial distribution 활용)\n",
    "- Output 값이 가장 큰 문자를 얼마나 \"확실히\" 출력할 것인가? temperature 값으로 조정하기 위해 `sample` 함수 사용"
   ]
  },
  {
   "cell_type": "code",
   "execution_count": null,
   "metadata": {},
   "outputs": [],
   "source": [
    "def sample(preds, temperature=1.0):\n",
    "    # helper function to sample an index from a probability array\n",
    "    preds = np.asarray(preds).astype('float64')\n",
    "    preds = np.log(preds) / temperature\n",
    "    exp_preds = np.exp(preds)\n",
    "    preds = exp_preds / np.sum(exp_preds)\n",
    "    #print(preds.round(3))\n",
    "    probas = np.random.multinomial(1, preds, 1)\n",
    "    return np.argmax(probas)"
   ]
  },
  {
   "cell_type": "code",
   "execution_count": null,
   "metadata": {
    "scrolled": true
   },
   "outputs": [],
   "source": [
    "sample([0.2, 0.5, 0.3], temperature=1)"
   ]
  },
  {
   "cell_type": "code",
   "execution_count": null,
   "metadata": {},
   "outputs": [],
   "source": [
    "from keras.models import load_model\n",
    "model=load_model('models/text_gen.h5')"
   ]
  },
  {
   "cell_type": "code",
   "execution_count": null,
   "metadata": {
    "ExecuteTime": {
     "end_time": "2018-07-10T09:12:39.962596Z",
     "start_time": "2018-07-10T09:12:38.857949Z"
    }
   },
   "outputs": [],
   "source": [
    "test_idx = np.random.randint(len(input_chars))\n",
    "test_chars = input_chars[test_idx]\n",
    "print(\"Generating from seed: %s\" % (test_chars))\n",
    "print(test_chars, end=\"\")\n",
    "for i in range(400):\n",
    "    Xtest = np.zeros((1, SEQLEN, nb_chars))\n",
    "    for i, ch in enumerate(test_chars):\n",
    "        Xtest[0, i, char2index[ch]] = 1\n",
    "    pred = model.predict(Xtest, verbose=0)[0]\n",
    "    ypred = index2char[sample(pred, 0.5)]\n",
    "    print(ypred, end=\"\")\n",
    "    # move forward with test_chars + ypred\n",
    "    test_chars = test_chars[1:] + ypred\n"
   ]
  },
  {
   "cell_type": "code",
   "execution_count": null,
   "metadata": {},
   "outputs": [],
   "source": []
  }
 ],
 "metadata": {
  "kernelspec": {
   "display_name": "Python 3",
   "language": "python",
   "name": "python3"
  },
  "language_info": {
   "codemirror_mode": {
    "name": "ipython",
    "version": 3
   },
   "file_extension": ".py",
   "mimetype": "text/x-python",
   "name": "python",
   "nbconvert_exporter": "python",
   "pygments_lexer": "ipython3",
   "version": "3.6.4"
  }
 },
 "nbformat": 4,
 "nbformat_minor": 4
}
