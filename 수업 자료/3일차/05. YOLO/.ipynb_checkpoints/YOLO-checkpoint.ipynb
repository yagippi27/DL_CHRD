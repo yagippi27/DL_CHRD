{
 "cells": [
  {
   "cell_type": "code",
   "execution_count": null,
   "metadata": {
    "colab": {
     "base_uri": "https://localhost:8080/",
     "height": 35
    },
    "colab_type": "code",
    "id": "MPiCiKf3BTVN",
    "outputId": "35c4b6c1-a61c-47f8-9207-f80f90f8434b"
   },
   "outputs": [],
   "source": [
    "# 구글 드라이브 연동\n",
    "from google.colab import drive\n",
    "drive.mount('/content/gdrive')"
   ]
  },
  {
   "cell_type": "code",
   "execution_count": null,
   "metadata": {
    "colab": {
     "base_uri": "https://localhost:8080/",
     "height": 89
    },
    "colab_type": "code",
    "id": "zUTb1S4EBXkn",
    "outputId": "26060864-5b68-485f-a713-da804e85e632"
   },
   "outputs": [],
   "source": [
    "%cd /content/gdrive/My\\ Drive/YOLO\n",
    "!ls"
   ]
  },
  {
   "cell_type": "code",
   "execution_count": null,
   "metadata": {
    "colab": {
     "base_uri": "https://localhost:8080/",
     "height": 125
    },
    "colab_type": "code",
    "id": "Fmp5rfvfB82n",
    "outputId": "506186fd-fb9a-4160-8fb3-6df94f1a65f6"
   },
   "outputs": [],
   "source": [
    "# Pretrained 되어있는 모델을 다운로드 해보겠습니다.\n",
    "\n",
    "!git clone https://github.com/pjreddie/darknet"
   ]
  },
  {
   "cell_type": "code",
   "execution_count": null,
   "metadata": {
    "colab": {
     "base_uri": "https://localhost:8080/",
     "height": 35
    },
    "colab_type": "code",
    "id": "4hZqwitsgn5J",
    "outputId": "62551fb3-c2aa-44b9-a6ae-f6f50a9083ef"
   },
   "outputs": [],
   "source": [
    " # darknet 폴더로 이동합니다.\n",
    "%cd /content/gdrive/My\\ Drive/YOLO/darknet"
   ]
  },
  {
   "cell_type": "code",
   "execution_count": null,
   "metadata": {
    "colab": {
     "base_uri": "https://localhost:8080/",
     "height": 1000
    },
    "colab_type": "code",
    "id": "-Zw3IyoII4xH",
    "outputId": "a256e0f7-050d-4aec-c8ce-b40992295fc6"
   },
   "outputs": [],
   "source": [
    "# 파일을 Make합니다.. 오래걸릴거에요\n",
    "!make\n",
    "!ls"
   ]
  },
  {
   "cell_type": "code",
   "execution_count": null,
   "metadata": {
    "colab": {
     "base_uri": "https://localhost:8080/",
     "height": 215
    },
    "colab_type": "code",
    "id": "lNBJQcuuJdxf",
    "outputId": "b0ada98c-995a-4bed-a93d-8d7503f47bd2"
   },
   "outputs": [],
   "source": [
    "# pretrained 된 weight를 받아보겠습니다.\n",
    "!wget https://pjreddie.com/media/files/yolov3.weights"
   ]
  },
  {
   "cell_type": "code",
   "execution_count": null,
   "metadata": {
    "colab": {
     "base_uri": "https://localhost:8080/",
     "height": 1000
    },
    "colab_type": "code",
    "id": "UlZyiQq7Jk4d",
    "outputId": "e9c745da-8303-4ddb-c142-fe0f77c846e5"
   },
   "outputs": [],
   "source": [
    "# 실행시켜서 YOLO를 돌려봅시다!\n",
    "!./darknet detect cfg/yolov3.cfg yolov3.weights data/kite.jpg\n",
    "\n",
    "# 결과는 darknet 폴더에 prediction.png로 저장됩니다.\n",
    "# 위 코드에 data/dog.jpg를 아래 중 하나로 바꾸어 실행시켜보세요!\n",
    "### data/eagle.jpg\n",
    "### data/person.jpg\n",
    "### data/kite.jpg "
   ]
  },
  {
   "cell_type": "code",
   "execution_count": null,
   "metadata": {
    "colab": {
     "base_uri": "https://localhost:8080/",
     "height": 1000
    },
    "colab_type": "code",
    "id": "CMU7M4c2K30v",
    "outputId": "6d5ce3aa-b2b3-406e-e1b1-a1e4743d41b8"
   },
   "outputs": [],
   "source": [
    "## 기다리기가 .. 힘듭니다.\n",
    "## 입력창에 파일의 경로를 입력해주세요 ... \n",
    "## data/dog.jpg 정도..\n",
    "## 하나의 결과가 생성되면 prediction.png에 저장이 됩니다.\n",
    "!./darknet detect cfg/yolov3.cfg yolov3.weights"
   ]
  },
  {
   "cell_type": "code",
   "execution_count": null,
   "metadata": {
    "colab": {
     "base_uri": "https://localhost:8080/",
     "height": 305
    },
    "colab_type": "code",
    "id": "SB05SmYFLnlW",
    "outputId": "7b8046fc-8fc4-4661-8e78-2dafbc306672"
   },
   "outputs": [],
   "source": [
    "## 설명드린 바와 같이, 검출되는 이미지의 threshold를 조정할 수 있습니다.\n",
    "## 아래와 같이 말이죠.\n",
    "## 엄청나게 오래 걸립니다 ...\n",
    "## 왜냐하면, 모든 cell에 대해서 다 검출이 되기 때문이죠.. \n",
    "## 끔찍합니다.\n",
    "!./darknet detect cfg/yolov3.cfg yolov3.weights data/dog.jpg -thresh 0"
   ]
  },
  {
   "cell_type": "code",
   "execution_count": null,
   "metadata": {
    "colab": {
     "base_uri": "https://localhost:8080/",
     "height": 215
    },
    "colab_type": "code",
    "id": "drCfSr4pMR69",
    "outputId": "1be41695-b947-4352-d412-64c68bad1218"
   },
   "outputs": [],
   "source": [
    "## YOLO는 너무 무겁습니다.\n",
    "## 가벼운 뭔가가 필요합니다.\n",
    "## YOLOv3-Tiny를 받아보겠습니다.\n",
    "!wget https://pjreddie.com/media/files/yolov3-tiny.weights"
   ]
  },
  {
   "cell_type": "code",
   "execution_count": null,
   "metadata": {
    "colab": {
     "base_uri": "https://localhost:8080/",
     "height": 593
    },
    "colab_type": "code",
    "id": "olAD2RZ9NVyG",
    "outputId": "1817d146-2fca-47a5-bb1b-9d628d2c00f1"
   },
   "outputs": [],
   "source": [
    "## YOLOv3 Tiny를 실행시켜봅시다.\n",
    "\n",
    "!./darknet detect cfg/yolov3-tiny.cfg yolov3-tiny.weights data/dog.jpg -out other.jpg"
   ]
  },
  {
   "cell_type": "code",
   "execution_count": null,
   "metadata": {
    "colab": {},
    "colab_type": "code",
    "id": "KHrgL_j_gbPK"
   },
   "outputs": [],
   "source": [
    "!./darknet detector cfg/coco.data cfg/yolov3.cfg yolov3.weights ../input_a_short.mp4 -ext_output test_001.mp4"
   ]
  },
  {
   "cell_type": "code",
   "execution_count": null,
   "metadata": {
    "colab": {
     "base_uri": "https://localhost:8080/",
     "height": 53
    },
    "colab_type": "code",
    "id": "RZ0OvhTQRajd",
    "outputId": "eb8a0089-3242-4b8b-815e-837057a3d78c"
   },
   "outputs": [],
   "source": [
    "## 하지만 .. 이래서는 영 .. 문제가 많습니다.\n",
    "## 이런식으로 실행하는 것도 귀찮습니다 ..\n",
    "## 물론 -out으로 출력파일을 바꿔줄수는 있지만 .. 여러가지 .. 참 커스터 마이징을 하기 어렵습니다.. \n",
    "## 다행히, 어떤 감사한 분께서, 이 파일들을 전부 파이선으로 convert해주셨습니다.\n",
    "## 사용해 보겠습니다.\n",
    "## URL https://github.com/ayooshkathuria/YOLO_v3_tutorial_from_scratch\n",
    "### 본 사이트는 처음부터 .. YOLOv3를 구현해보자는 사이트입니다.\n",
    "### 공부하기에 매우 좋은 사이트입니다!\n",
    "\n",
    "%cd /content/gdrive/My\\ Drive/YOLO\n",
    "!git clone https://github.com/ayooshkathuria/YOLO_v3_tutorial_from_scratch"
   ]
  },
  {
   "cell_type": "code",
   "execution_count": null,
   "metadata": {
    "colab": {
     "base_uri": "https://localhost:8080/",
     "height": 35
    },
    "colab_type": "code",
    "id": "CkSI4fDdShAV",
    "outputId": "5a88b20d-6f8c-4e4b-a7a8-ec1085a74898"
   },
   "outputs": [],
   "source": [
    "## 경로를 바꿔주고 .. 잠시 폴더를 탐색해보시죠 .. 훨씬 깔끔하고 예제도 많습니다!!\n",
    "%cd /content/gdrive/My\\ Drive/YOLO/YOLO_v3_tutorial_from_scratch\n",
    "#!wget https://pjreddie.com/media/files/yolov3.weights"
   ]
  },
  {
   "cell_type": "code",
   "execution_count": null,
   "metadata": {
    "colab": {
     "base_uri": "https://localhost:8080/",
     "height": 305
    },
    "colab_type": "code",
    "id": "J22DjkmbR9z9",
    "outputId": "bddbd01b-0126-4bd3-b9cd-0d2f24104e14"
   },
   "outputs": [],
   "source": [
    "## 우리 .. 댕댕이를 한번 다시 돌려보겠습니다..\n",
    "!python detect.py --images ./imgs/dog.jpg --det my_result"
   ]
  },
  {
   "cell_type": "code",
   "execution_count": null,
   "metadata": {
    "colab": {
     "base_uri": "https://localhost:8080/",
     "height": 107
    },
    "colab_type": "code",
    "id": "MzFMSMM9TO1c",
    "outputId": "1fd9f1fd-0908-4215-a541-8b9512c6dacd"
   },
   "outputs": [],
   "source": [
    "## VIDEO를 돌려보겠습니다.. 아쉽게도 -det옵션은 없습니다 .. \n",
    "!python video.py --video ../input_a.mp4\n",
    "\n",
    "##### 안됩니다!!!!!\n",
    "##### Docker를 올려서 해결하는 방법이 있습니다.\n",
    "##### 다만 .. Colab에서는 상당히 해결방법이 까다롭기 때문에 .. 추후 Linux 시스템에서 해보시길 추천드립니다.\n",
    "##### 특히 GUI가 지원되는 환경에서 해보시길 바랍니다."
   ]
  },
  {
   "cell_type": "code",
   "execution_count": null,
   "metadata": {
    "colab": {},
    "colab_type": "code",
    "id": "YYaI3_PIqdNp"
   },
   "outputs": [],
   "source": [
    "import numpy as np\n",
    "import time\n",
    "import cv2"
   ]
  },
  {
   "cell_type": "code",
   "execution_count": null,
   "metadata": {
    "colab": {
     "base_uri": "https://localhost:8080/",
     "height": 35
    },
    "colab_type": "code",
    "id": "iuFy9534qftG",
    "outputId": "c2e4713e-430c-4771-d6bb-1816910216ec"
   },
   "outputs": [],
   "source": [
    "%cd /content/gdrive/My\\ Drive/YOLO/darknet\n",
    "#Load YOLO\n",
    "net = cv2.dnn.readNet(\"yolov3.weights\",\"./cfg/yolov3.cfg\") # Original yolov3\n",
    "#net = cv2.dnn.readNet(\"yolov3-tiny.weights\",\"./cfg/yolov3-tiny.cfg\") #Tiny Yolo\n",
    "classes = []\n",
    "with open(\"./data/coco.names\",\"r\") as f:\n",
    "    classes = [line.strip() for line in f.readlines()]"
   ]
  },
  {
   "cell_type": "code",
   "execution_count": null,
   "metadata": {
    "colab": {},
    "colab_type": "code",
    "id": "2RTJAMAGqkTu"
   },
   "outputs": [],
   "source": [
    "layer_names = net.getLayerNames()\n",
    "outputlayers = [layer_names[i[0] - 1] for i in net.getUnconnectedOutLayers()]"
   ]
  },
  {
   "cell_type": "code",
   "execution_count": null,
   "metadata": {
    "colab": {},
    "colab_type": "code",
    "id": "OxYEf3EXqm5u"
   },
   "outputs": [],
   "source": [
    "colors= np.random.uniform(0,255,size=(len(classes),3))"
   ]
  },
  {
   "cell_type": "code",
   "execution_count": null,
   "metadata": {
    "colab": {
     "base_uri": "https://localhost:8080/",
     "height": 35
    },
    "colab_type": "code",
    "id": "SarcN-iyq7Vg",
    "outputId": "727766e1-9cf7-480d-ffab-d48357da5298"
   },
   "outputs": [],
   "source": [
    "!pwd"
   ]
  },
  {
   "cell_type": "code",
   "execution_count": null,
   "metadata": {
    "colab": {},
    "colab_type": "code",
    "id": "Z1v-FbYdph5m"
   },
   "outputs": [],
   "source": [
    "#loading image\n",
    "cap=cv2.VideoCapture(\"../input_a.mp4\") #0 for 1st webcam\n",
    "font = cv2.FONT_HERSHEY_PLAIN\n",
    "starting_time= time.time()\n",
    "\n",
    "width, height = int(cap.get(cv2.CAP_PROP_FRAME_WIDTH)), int(cap.get(cv2.CAP_PROP_FRAME_HEIGHT))\n",
    "channels = 3\n",
    "fps = cap.get(cv2.CAP_PROP_FPS)\n",
    "\n",
    "# can't write out mp4, so try to write into an AVI file\n",
    "video_writer = cv2.VideoWriter(\"../output_longx1_yolofull.avi\", cv2.VideoWriter_fourcc(*'MJPG'), fps, (width, height))\n",
    "\n",
    "frame_id = 0\n",
    "\n",
    "while True:\n",
    "    ret,frame= cap.read() # \n",
    "    frame_id+=1\n",
    "    \n",
    "    if not ret:\n",
    "      break\n",
    "    \n",
    "    #height,width,channels = frame.shape\n",
    "    #detecting objects\n",
    "    blob = cv2.dnn.blobFromImage(frame,0.00392,(320,320),(0,0,0),True,crop=False) #reduce 416 to 320    \n",
    "\n",
    "        \n",
    "    net.setInput(blob)\n",
    "    outs = net.forward(outputlayers)\n",
    "    #print(outs[1])\n",
    "\n",
    "\n",
    "    #Showing info on screen/ get confidence score of algorithm in detecting an object in blob\n",
    "    class_ids=[]\n",
    "    confidences=[]\n",
    "    boxes=[]\n",
    "    for out in outs:\n",
    "        for detection in out:\n",
    "            scores = detection[5:]\n",
    "            class_id = np.argmax(scores)\n",
    "            confidence = scores[class_id]\n",
    "            if confidence > 0.3:\n",
    "                #onject detected\n",
    "                center_x= int(detection[0]*width)\n",
    "                center_y= int(detection[1]*height)\n",
    "                w = int(detection[2]*width)\n",
    "                h = int(detection[3]*height)\n",
    "\n",
    "                #cv2.circle(img,(center_x,center_y),10,(0,255,0),2)\n",
    "                #rectangle co-ordinaters\n",
    "                x=int(center_x - w/2)\n",
    "                y=int(center_y - h/2)\n",
    "                #cv2.rectangle(img,(x,y),(x+w,y+h),(0,255,0),2)\n",
    "\n",
    "                boxes.append([x,y,w,h]) #put all rectangle areas\n",
    "                confidences.append(float(confidence)) #how confidence was that object detected and show that percentage\n",
    "                class_ids.append(class_id) #name of the object tha was detected\n",
    "\n",
    "    indexes = cv2.dnn.NMSBoxes(boxes,confidences,0.4,0.6)\n",
    "\n",
    "\n",
    "    for i in range(len(boxes)):\n",
    "        if i in indexes:\n",
    "            x,y,w,h = boxes[i]\n",
    "            label = str(classes[class_ids[i]])\n",
    "            confidence= confidences[i]\n",
    "            color = colors[class_ids[i]]\n",
    "            cv2.rectangle(frame,(x,y),(x+w,y+h),color,2)\n",
    "            cv2.putText(frame,label+\" \"+str(round(confidence,2)),(x,y+30),font,1,(255,255,255),2)\n",
    "#     key = cv2.waitKey(1) #wait 1ms the loop will start again and we will process the next frame\n",
    "    \n",
    "#     if key == 27: #esc key stops the process\n",
    "#         break;\n",
    "    \n",
    "cap.release()    \n",
    "cv2.destroyAllWindows()\n"
   ]
  },
  {
   "cell_type": "code",
   "execution_count": null,
   "metadata": {
    "colab": {},
    "colab_type": "code",
    "id": "sB-KNXIvlV1J"
   },
   "outputs": [],
   "source": [
    "## YOLO 학습데이터 직접 만들기 .. \n",
    "## https://pgmrlsh.tistory.com/6 "
   ]
  },
  {
   "cell_type": "markdown",
   "metadata": {
    "colab_type": "text",
    "id": "Cj9Nipi5HvaH"
   },
   "source": [
    "## 동영상 실행 및 동영상 만들기"
   ]
  },
  {
   "cell_type": "code",
   "execution_count": null,
   "metadata": {
    "colab": {},
    "colab_type": "code",
    "id": "78CuiWI3H0tO"
   },
   "outputs": [],
   "source": [
    "%cd /content/gdrive/My\\ Drive/YOLO\n",
    "\n",
    "import numpy as np\n",
    "import cv2"
   ]
  },
  {
   "cell_type": "code",
   "execution_count": null,
   "metadata": {
    "colab": {},
    "colab_type": "code",
    "id": "D86f1lAGB_A0"
   },
   "outputs": [],
   "source": [
    "# Video Load\n",
    "video_sample = cv2.VideoCapture('./input_a.mp4')"
   ]
  },
  {
   "cell_type": "code",
   "execution_count": null,
   "metadata": {
    "colab": {},
    "colab_type": "code",
    "id": "ZhC5y2oXCGXo"
   },
   "outputs": [],
   "source": [
    "from google.colab.patches import cv2_imshow\n",
    "\n",
    "# frame 수를 count하기 위한 변수 설정\n",
    "count_frame = 0\n",
    "\n",
    "\n",
    "while(video_sample.isOpened()):\n",
    "  \n",
    "  count_frame += 1\n",
    "  \n",
    "  # 동영상 파일로 부터 이미지를 가져옴\n",
    "  ret, frame = video_sample.read()\n",
    "  \n",
    "  # 60 프레임 단위로 열어보기\n",
    "  if (count_frame % 60 == 0):\n",
    "    \n",
    "    # 동영상의 크기 확인\n",
    "    print(frame.shape)\n",
    "  \n",
    "    # 화면에 이미지를 출력\n",
    "    cv2_imshow(frame)\n",
    "\n",
    "    # 입력을 받으면 .. 실행.. 그냥 확인할때 많이쓰는 편법입니다.\n",
    "    input()\n",
    "\n",
    "\n",
    "# 비디오를 열고 나시면, 항상 이렇게 리소스를 해제해주세요.\n",
    "video_sample.release()\n",
    "cv2.destroyAllWindows()"
   ]
  },
  {
   "cell_type": "code",
   "execution_count": null,
   "metadata": {
    "colab": {},
    "colab_type": "code",
    "id": "5OGps8VtCSqE"
   },
   "outputs": [],
   "source": [
    "## 도형을 동영상으로 만들어보기\n",
    "\n",
    "videofile1 = \"./test.avi\"\n",
    "\n",
    "# 비디오 쓰기 + fourcc -> frame 압축 관련 4자리 코드\n",
    "fourcc = cv2.VideoWriter_fourcc(*'DIVX')\n",
    "\n",
    "#cv2.VideoWriter([filename, fourcc, fps, framesize[,isColor]])\n",
    "out    = cv2.VideoWriter(videofile1, fourcc, 25.0, (384, 384))\n",
    "\n",
    "blue_color = (255,0,0)\n",
    "green_color = (0,255,0)\n",
    "red_color = (0,0,255)\n",
    "white_color = (255,255,255)\n",
    "\n",
    "# 모두 0으로 되어있는 빈 Canvas 설정 (검은색)\n",
    "img = np.zeros((384, 384, 3), np.uint8)\n",
    "\n",
    "# 90 프레임만 만들어봅시다..\n",
    "for i in range(0, 360): #Q. 몇초짜리 영상이 나올까요? 14.4초 ..\n",
    "  \n",
    "  # 타원을 다각형의 도형 형태로\n",
    "  pt1 = cv2.ellipse2Poly((200,200), (100,160), i, 0, 360, 50)\n",
    "  # 비교대상의 타원을 흰색으로 표시\n",
    "  img = cv2.ellipse(img, (200,200), (100,160), 0, 0, 360, white_color, 2)\n",
    "  # 이미지에 다각형의 도형을 넣기\n",
    "  img = cv2.polylines(img, [pt1], False, green_color, 2)\n",
    "  \n",
    "  out.write(img)\n",
    "  \n",
    "out.release()\n",
    "print(\"Done\") \n",
    "# 구글드라이브 내 test.avi를 다운받아 실행시켜보세요!"
   ]
  },
  {
   "cell_type": "markdown",
   "metadata": {
    "colab_type": "text",
    "id": "zMKiONOaIGA-"
   },
   "source": [
    ".. 만약 카메라에서 받아오셔야 한다면,\n",
    "이 사이트를 참고해보세요..\n",
    "https://webnautes.tistory.com/577"
   ]
  },
  {
   "cell_type": "code",
   "execution_count": null,
   "metadata": {
    "colab": {},
    "colab_type": "code",
    "id": "jpp55lm_IG-b"
   },
   "outputs": [],
   "source": []
  }
 ],
 "metadata": {
  "accelerator": "GPU",
  "colab": {
   "collapsed_sections": [],
   "name": "YOLO.ipynb",
   "provenance": []
  },
  "kernelspec": {
   "display_name": "Python 3",
   "language": "python",
   "name": "python3"
  },
  "language_info": {
   "codemirror_mode": {
    "name": "ipython",
    "version": 3
   },
   "file_extension": ".py",
   "mimetype": "text/x-python",
   "name": "python",
   "nbconvert_exporter": "python",
   "pygments_lexer": "ipython3",
   "version": "3.6.4"
  }
 },
 "nbformat": 4,
 "nbformat_minor": 4
}
