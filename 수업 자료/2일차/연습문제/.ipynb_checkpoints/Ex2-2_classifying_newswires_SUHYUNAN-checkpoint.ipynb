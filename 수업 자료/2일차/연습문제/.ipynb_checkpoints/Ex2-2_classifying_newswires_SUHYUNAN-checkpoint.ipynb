{
 "cells": [
  {
   "cell_type": "markdown",
   "metadata": {},
   "source": [
    "<font color=\"darkred\">\n",
    "\n",
    "# Example 2-1: Classifying newswires"
   ]
  },
  {
   "cell_type": "markdown",
   "metadata": {},
   "source": [
    "## The Reuters dataset\n",
    "\n",
    "- 1986년에 로이터에서 공개한 짧은 뉴스 기사와 토픽의 집합\n",
    "- 46개의 토픽으로 분류하는 문제 "
   ]
  },
  {
   "cell_type": "code",
   "execution_count": 2,
   "metadata": {
    "ExecuteTime": {
     "end_time": "2019-02-18T11:35:24.071766Z",
     "start_time": "2019-02-18T11:35:21.505322Z"
    }
   },
   "outputs": [
    {
     "name": "stdout",
     "output_type": "stream",
     "text": [
      "Downloading data from https://s3.amazonaws.com/text-datasets/reuters.npz\n",
      "2113536/2110848 [==============================] - 2s 1us/step\n"
     ]
    }
   ],
   "source": [
    "import numpy as np\n",
    "from keras.datasets import reuters\n",
    "\n",
    "np.load.__defaults__=(None, True, True, 'ASCII')\n",
    "\n",
    "(train_data, train_labels), (test_data, test_labels) = reuters.load_data(num_words=10000)"
   ]
  },
  {
   "cell_type": "markdown",
   "metadata": {},
   "source": [
    "<font color=blue>\n",
    "TO DO: 총 몇 개의 샘플이 train data와 test data에 포함되어 있는가?"
   ]
  },
  {
   "cell_type": "code",
   "execution_count": 12,
   "metadata": {},
   "outputs": [
    {
     "name": "stdout",
     "output_type": "stream",
     "text": [
      "train data : 8982개 \n",
      "test data : 2246개\n"
     ]
    }
   ],
   "source": [
    "# Your answer comes here\n",
    "print('train data : {:}개 \\ntest data : {:}개'.format(len(train_data), len(test_data)))"
   ]
  },
  {
   "cell_type": "markdown",
   "metadata": {},
   "source": [
    "- IMDB movie review data처럼 각 샘플은 단어를 나타내는 인덱스로 이루어짐"
   ]
  },
  {
   "cell_type": "markdown",
   "metadata": {},
   "source": [
    "<font color=blue>\n",
    "TO DO: 첫 번째 (index=0) 샘플의 기사를 단어로 디코딩 하고 해당 기사의 topic 레이블을 프린트 하시오."
   ]
  },
  {
   "cell_type": "code",
   "execution_count": 15,
   "metadata": {
    "ExecuteTime": {
     "end_time": "2019-02-18T11:43:55.089671Z",
     "start_time": "2019-02-18T11:43:55.080843Z"
    },
    "scrolled": true
   },
   "outputs": [],
   "source": [
    "# Your answer comes here\n",
    "word_index = reuters.get_word_index()\n",
    "reverse_word_index = dict([(value, key) for (key, value) in word_index.items()])\n",
    "decoded_review = ' '.join([reverse_word_index.get(i-3 , '?') for i in train_data[0]])"
   ]
  },
  {
   "cell_type": "code",
   "execution_count": 16,
   "metadata": {},
   "outputs": [
    {
     "data": {
      "text/plain": [
       "'? ? ? said as a result of its december acquisition of space co it expects earnings per share in 1987 of 1 15 to 1 30 dlrs per share up from 70 cts in 1986 the company said pretax net should rise to nine to 10 mln dlrs from six mln dlrs in 1986 and rental operation revenues to 19 to 22 mln dlrs from 12 5 mln dlrs it said cash flow per share this year should be 2 50 to three dlrs reuter 3'"
      ]
     },
     "execution_count": 16,
     "metadata": {},
     "output_type": "execute_result"
    }
   ],
   "source": [
    "decoded_review"
   ]
  },
  {
   "cell_type": "markdown",
   "metadata": {},
   "source": [
    "## Preparing the data"
   ]
  },
  {
   "cell_type": "markdown",
   "metadata": {},
   "source": [
    "<font color=blue>\n",
    "TO DO: `train_data`와 `test_data`의 샘플들을 각 단어를 나타내는 one-hot vector의 시퀀스로 변환하여 neural network의 입력 데이터의 형태로 만들고  `x_train`과 `x_test`의 이름으로 저장하시오."
   ]
  },
  {
   "cell_type": "code",
   "execution_count": 17,
   "metadata": {
    "ExecuteTime": {
     "end_time": "2019-02-18T13:13:48.026366Z",
     "start_time": "2019-02-18T13:13:46.886234Z"
    }
   },
   "outputs": [],
   "source": [
    "# Your answer comes here\n",
    "\n",
    "def vectorize_sequences(sequences, dimension=10000):\n",
    "    # Create an all-zero matrix of shape (len(sequences), dimension)\n",
    "    results = np.zeros((len(sequences), dimension))\n",
    "    for i, sequence in enumerate(sequences):\n",
    "        results[i, sequence] = 1.  # set specific indices of results[i] to 1s\n",
    "    return results\n",
    "\n",
    "# Our vectorized training data\n",
    "x_train = vectorize_sequences(train_data)\n",
    "# Our vectorized test data\n",
    "x_test = vectorize_sequences(test_data)"
   ]
  },
  {
   "cell_type": "markdown",
   "metadata": {},
   "source": [
    "<font color=blue>\n",
    "TO DO: `train_labels`와 `test_labels`를 46개의 범주를 구분하는 one-hot encoding으로 변환하시오. (참고: Lecture 1의 MNIST data)"
   ]
  },
  {
   "cell_type": "code",
   "execution_count": 18,
   "metadata": {},
   "outputs": [],
   "source": [
    "# Your answer comes here\n",
    "\n",
    "from keras.utils.np_utils import to_categorical\n",
    "\n",
    "one_hot_train_labels = to_categorical(train_labels)\n",
    "one_hot_test_labels = to_categorical(test_labels)"
   ]
  },
  {
   "cell_type": "markdown",
   "metadata": {},
   "source": [
    "## Building our network\n",
    "\n",
    "- Output의 dimension이 46개이기 때문에 IMDB 데이터의 2개보다 훨씬 큼\n",
    "- IMDB 모형보다는 더 많은 node를 가진 layer를 사용하는 것이 나음 \n"
   ]
  },
  {
   "cell_type": "markdown",
   "metadata": {},
   "source": [
    "<font color=blue>\n",
    "TO DO: 아래의 설명에 따라 모형을 만드시오.\n",
    "\n",
    "- 64개의 node를 가지는 dense layer를 2개 사용. 각 layer는 ReLU activation 적용\n",
    "- Output layer는 softmax activation 사용\n"
   ]
  },
  {
   "cell_type": "code",
   "execution_count": 23,
   "metadata": {},
   "outputs": [],
   "source": [
    "from keras.models import Sequential\n",
    "from keras.layers import Dense, Dropout\n",
    "from keras.utils import plot_model\n",
    "from keras import backend as K\n",
    "from keras.callbacks import EarlyStopping, TensorBoard\n",
    "from keras import optimizers"
   ]
  },
  {
   "cell_type": "code",
   "execution_count": 26,
   "metadata": {
    "ExecuteTime": {
     "end_time": "2019-02-18T14:11:33.698017Z",
     "start_time": "2019-02-18T14:11:33.628344Z"
    }
   },
   "outputs": [
    {
     "name": "stdout",
     "output_type": "stream",
     "text": [
      "_________________________________________________________________\n",
      "Layer (type)                 Output Shape              Param #   \n",
      "=================================================================\n",
      "dense_1 (Dense)              (None, 64)                640064    \n",
      "_________________________________________________________________\n",
      "dense_2 (Dense)              (None, 64)                4160      \n",
      "_________________________________________________________________\n",
      "dense_3 (Dense)              (None, 46)                2990      \n",
      "=================================================================\n",
      "Total params: 647,214\n",
      "Trainable params: 647,214\n",
      "Non-trainable params: 0\n",
      "_________________________________________________________________\n"
     ]
    }
   ],
   "source": [
    "# Your answer comes here\n",
    "\n",
    "K.clear_session() \n",
    "\n",
    "model = Sequential()\n",
    "model.add(Dense(64, activation='relu', input_shape=(10000,)))\n",
    "model.add(Dense(64, activation='relu'))\n",
    "model.add(Dense(46, activation='softmax'))\n",
    "model.summary()"
   ]
  },
  {
   "cell_type": "markdown",
   "metadata": {},
   "source": [
    "<font color=blue>\n",
    "TO DO: `rmsprop` optimizer와 적절한 loss 함수를 사용하여  model을 compile 하시오."
   ]
  },
  {
   "cell_type": "code",
   "execution_count": 29,
   "metadata": {
    "ExecuteTime": {
     "end_time": "2019-02-18T14:11:34.238780Z",
     "start_time": "2019-02-18T14:11:34.204399Z"
    }
   },
   "outputs": [],
   "source": [
    "# Your answer comes here\n",
    "\n",
    "model.compile(optimizer = 'rmsprop', loss = 'categorical_crossentropy', metrics=['accuracy'])"
   ]
  },
  {
   "cell_type": "markdown",
   "metadata": {},
   "source": [
    "## Validating our approach\n"
   ]
  },
  {
   "cell_type": "code",
   "execution_count": 30,
   "metadata": {
    "ExecuteTime": {
     "end_time": "2019-02-18T14:11:34.831342Z",
     "start_time": "2019-02-18T14:11:34.824113Z"
    }
   },
   "outputs": [],
   "source": [
    "x_val = x_train[:1000]\n",
    "partial_x_train = x_train[1000:]\n",
    "\n",
    "y_val = one_hot_train_labels[:1000]\n",
    "partial_y_train = one_hot_train_labels[1000:]"
   ]
  },
  {
   "cell_type": "markdown",
   "metadata": {},
   "source": [
    "<font color=blue>\n",
    "TO DO: `partial_x_train`, `partial_y_train`을 train data로, `x_val`, `y_val`을 validation data로 사용하여 모델을 학습하고 최적의 epoch 수를 찾으시오. "
   ]
  },
  {
   "cell_type": "code",
   "execution_count": 40,
   "metadata": {},
   "outputs": [],
   "source": [
    "es = EarlyStopping(monitor='val_loss', verbose=1, patience=5)"
   ]
  },
  {
   "cell_type": "code",
   "execution_count": 43,
   "metadata": {
    "ExecuteTime": {
     "end_time": "2019-02-18T14:11:45.966602Z",
     "start_time": "2019-02-18T14:11:35.731519Z"
    }
   },
   "outputs": [
    {
     "name": "stdout",
     "output_type": "stream",
     "text": [
      "Train on 7982 samples, validate on 1000 samples\n",
      "Epoch 1/30\n",
      " - 3s - loss: 0.0783 - acc: 0.9600 - val_loss: 1.3198 - val_acc: 0.7830\n",
      "Epoch 2/30\n",
      " - 3s - loss: 0.0800 - acc: 0.9599 - val_loss: 1.2808 - val_acc: 0.7940\n",
      "Epoch 3/30\n",
      " - 3s - loss: 0.0772 - acc: 0.9612 - val_loss: 1.2952 - val_acc: 0.7780\n",
      "Epoch 4/30\n",
      " - 2s - loss: 0.0815 - acc: 0.9602 - val_loss: 1.2992 - val_acc: 0.7840\n",
      "Epoch 5/30\n",
      " - 2s - loss: 0.0774 - acc: 0.9607 - val_loss: 1.3279 - val_acc: 0.7870\n",
      "Epoch 6/30\n",
      " - 3s - loss: 0.0759 - acc: 0.9607 - val_loss: 1.3222 - val_acc: 0.7840\n",
      "Epoch 7/30\n",
      " - 2s - loss: 0.0750 - acc: 0.9597 - val_loss: 1.3578 - val_acc: 0.7810\n",
      "Epoch 00007: early stopping\n"
     ]
    }
   ],
   "source": [
    "# Your answer comes here\n",
    "\n",
    "history = model.fit(partial_x_train, partial_y_train, verbose = 2, epochs = 30, batch_size = 1000, validation_data = (x_val, y_val), callbacks=[es])"
   ]
  },
  {
   "cell_type": "markdown",
   "metadata": {},
   "source": [
    "Let's display its loss and accuracy curves:"
   ]
  },
  {
   "cell_type": "code",
   "execution_count": 44,
   "metadata": {},
   "outputs": [
    {
     "data": {
      "image/png": "[encoded data removed]",
      "text/plain": [
       "<Figure size 432x288 with 1 Axes>"
      ]
     },
     "metadata": {
      "needs_background": "light"
     },
     "output_type": "display_data"
    }
   ],
   "source": [
    "import matplotlib.pyplot as plt\n",
    "\n",
    "loss = history.history['loss']\n",
    "val_loss = history.history['val_loss']\n",
    "\n",
    "epochs = range(1, len(loss) + 1)\n",
    "\n",
    "plt.plot(epochs, loss, 'bo', label='Training loss')\n",
    "plt.plot(epochs, val_loss, 'b', label='Validation loss')\n",
    "plt.title('Training and validation loss')\n",
    "plt.xlabel('Epochs')\n",
    "plt.ylabel('Loss')\n",
    "plt.legend()\n",
    "\n",
    "plt.show()"
   ]
  },
  {
   "cell_type": "code",
   "execution_count": 45,
   "metadata": {
    "scrolled": true
   },
   "outputs": [
    {
     "data": {
      "image/png": "[encoded data removed]",
      "text/plain": [
       "<Figure size 432x288 with 1 Axes>"
      ]
     },
     "metadata": {
      "needs_background": "light"
     },
     "output_type": "display_data"
    }
   ],
   "source": [
    "plt.clf()   # clear figure\n",
    "\n",
    "acc = history.history['acc']\n",
    "val_acc = history.history['val_acc']\n",
    "\n",
    "plt.plot(epochs, acc, 'bo', label='Training acc')\n",
    "plt.plot(epochs, val_acc, 'b', label='Validation acc')\n",
    "plt.title('Training and validation accuracy')\n",
    "plt.xlabel('Epochs')\n",
    "plt.ylabel('Loss')\n",
    "plt.legend()\n",
    "\n",
    "plt.show()"
   ]
  },
  {
   "cell_type": "markdown",
   "metadata": {},
   "source": [
    "<font color=blue>\n",
    "TO DO: 최적의 epoch 수만큼 model을 다시 학습시키고 test set에 대해 model의 loss와 accuracy를 계산하시오.\n"
   ]
  },
  {
   "cell_type": "code",
   "execution_count": 46,
   "metadata": {},
   "outputs": [],
   "source": [
    "del history"
   ]
  },
  {
   "cell_type": "code",
   "execution_count": 47,
   "metadata": {},
   "outputs": [
    {
     "name": "stdout",
     "output_type": "stream",
     "text": [
      "Train on 7982 samples, validate on 1000 samples\n",
      "Epoch 1/30\n",
      " - 2s - loss: 0.0989 - acc: 0.9588 - val_loss: 1.3459 - val_acc: 0.7850\n",
      "Epoch 2/30\n",
      " - 1s - loss: 0.0869 - acc: 0.9585 - val_loss: 1.3556 - val_acc: 0.7900\n",
      "Epoch 3/30\n",
      " - 1s - loss: 0.0902 - acc: 0.9584 - val_loss: 1.3557 - val_acc: 0.7840\n",
      "Epoch 4/30\n",
      " - 1s - loss: 0.0829 - acc: 0.9602 - val_loss: 1.3595 - val_acc: 0.7870\n",
      "Epoch 5/30\n",
      " - 1s - loss: 0.0892 - acc: 0.9593 - val_loss: 1.3273 - val_acc: 0.7890\n",
      "Epoch 6/30\n",
      " - 1s - loss: 0.0854 - acc: 0.9598 - val_loss: 1.3653 - val_acc: 0.7880\n",
      "Epoch 7/30\n",
      " - 1s - loss: 0.0849 - acc: 0.9594 - val_loss: 1.3284 - val_acc: 0.7950\n",
      "Epoch 8/30\n",
      " - 1s - loss: 0.0804 - acc: 0.9597 - val_loss: 1.3808 - val_acc: 0.7760\n",
      "Epoch 9/30\n",
      " - 1s - loss: 0.0861 - acc: 0.9598 - val_loss: 1.3315 - val_acc: 0.7850\n",
      "Epoch 10/30\n",
      " - 1s - loss: 0.0855 - acc: 0.9569 - val_loss: 1.3992 - val_acc: 0.7710\n",
      "Epoch 00010: early stopping\n"
     ]
    }
   ],
   "source": [
    "# Your answer comes here\n",
    "\n",
    "history = model.fit(partial_x_train, partial_y_train, verbose = 2, epochs = 30, batch_size = 500, validation_data = (x_val, y_val), callbacks=[es])"
   ]
  },
  {
   "cell_type": "code",
   "execution_count": 52,
   "metadata": {},
   "outputs": [
    {
     "data": {
      "text/plain": [
       "['__class__',\n",
       " '__delattr__',\n",
       " '__dict__',\n",
       " '__dir__',\n",
       " '__doc__',\n",
       " '__eq__',\n",
       " '__format__',\n",
       " '__ge__',\n",
       " '__getattribute__',\n",
       " '__gt__',\n",
       " '__hash__',\n",
       " '__init__',\n",
       " '__init_subclass__',\n",
       " '__le__',\n",
       " '__lt__',\n",
       " '__module__',\n",
       " '__ne__',\n",
       " '__new__',\n",
       " '__reduce__',\n",
       " '__reduce_ex__',\n",
       " '__repr__',\n",
       " '__setattr__',\n",
       " '__sizeof__',\n",
       " '__str__',\n",
       " '__subclasshook__',\n",
       " '__weakref__',\n",
       " 'epoch',\n",
       " 'history',\n",
       " 'model',\n",
       " 'on_batch_begin',\n",
       " 'on_batch_end',\n",
       " 'on_epoch_begin',\n",
       " 'on_epoch_end',\n",
       " 'on_train_begin',\n",
       " 'on_train_end',\n",
       " 'params',\n",
       " 'set_model',\n",
       " 'set_params',\n",
       " 'validation_data']"
      ]
     },
     "execution_count": 52,
     "metadata": {},
     "output_type": "execute_result"
    }
   ],
   "source": [
    "dir(history)"
   ]
  },
  {
   "cell_type": "code",
   "execution_count": 75,
   "metadata": {},
   "outputs": [
    {
     "name": "stdout",
     "output_type": "stream",
     "text": [
      "마지막 epoch는 10이고, 정확도와 loss는 각각 0.96, 0.09이다.\n"
     ]
    }
   ],
   "source": [
    "print('마지막 epoch는 {}이고, 정확도와 loss는 각각 {:.2f}, {:.2f}이다.'.format(len(history.epoch),history.history['acc'][-1], history.history['loss'][-1]))"
   ]
  },
  {
   "cell_type": "code",
   "execution_count": 76,
   "metadata": {},
   "outputs": [
    {
     "name": "stdout",
     "output_type": "stream",
     "text": [
      "2246/2246 [==============================] - 1s 520us/step\n"
     ]
    }
   ],
   "source": [
    "results = model.evaluate(x_test, one_hot_test_labels)"
   ]
  },
  {
   "cell_type": "code",
   "execution_count": 77,
   "metadata": {},
   "outputs": [
    {
     "data": {
      "text/plain": [
       "[1.5919900403315748, 0.7675868209620618]"
      ]
     },
     "execution_count": 77,
     "metadata": {},
     "output_type": "execute_result"
    }
   ],
   "source": [
    "results"
   ]
  },
  {
   "cell_type": "markdown",
   "metadata": {},
   "source": [
    "<font color=blue>\n",
    "TO DO: `x_test`의 첫 번째 기사는 모형에 의해 몇 번째 topic으로 분류되었는가? 실제로는 몇 번째 topic에 해당하는 기사인가? \n"
   ]
  },
  {
   "cell_type": "code",
   "execution_count": 78,
   "metadata": {},
   "outputs": [],
   "source": [
    "# Your answer comes here\n",
    "predictions = model.predict(x_test)"
   ]
  },
  {
   "cell_type": "code",
   "execution_count": 96,
   "metadata": {},
   "outputs": [
    {
     "name": "stdout",
     "output_type": "stream",
     "text": [
      "0.99962의 확률로 첫 번째 기사는 3번 토픽이고, 실제는 3번 토픽입니다.\n"
     ]
    }
   ],
   "source": [
    "print('{:.5f}의 확률로 첫 번째 기사는 {}번 토픽이고, 실제는 {}번 토픽입니다.'.format(max(predictions[0]), np.argmax(predictions[0]), test_labels[0]))"
   ]
  },
  {
   "cell_type": "markdown",
   "metadata": {},
   "source": [
    "<font color=blue>\n",
    "TO DO: 다음의 변화를 시도하며 모형 성능이 어떻게 변하는지 관찰하고 test accuracy를 가장 크게 만드는 모형을 report 하시오. \n",
    "- 각 층의 node의 개수를 크게 혹은 작게 변화(32, 128 등) \n",
    "- Hidden layer의 수를 조정 (1개, 3개 등)"
   ]
  },
  {
   "cell_type": "code",
   "execution_count": null,
   "metadata": {},
   "outputs": [],
   "source": [
    "# Your answer comes here\n"
   ]
  }
 ],
 "metadata": {
  "kernelspec": {
   "display_name": "Python 3",
   "language": "python",
   "name": "python3"
  },
  "language_info": {
   "codemirror_mode": {
    "name": "ipython",
    "version": 3
   },
   "file_extension": ".py",
   "mimetype": "text/x-python",
   "name": "python",
   "nbconvert_exporter": "python",
   "pygments_lexer": "ipython3",
   "version": "3.7.5"
  }
 },
 "nbformat": 4,
 "nbformat_minor": 4
}
